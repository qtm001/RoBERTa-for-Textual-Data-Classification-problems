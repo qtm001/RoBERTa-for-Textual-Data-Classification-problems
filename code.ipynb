{
 "cells": [
  {
   "cell_type": "markdown",
   "metadata": {},
   "source": [
    "1.Problem overview"
   ]
  },
  {
   "cell_type": "code",
   "execution_count": 2,
   "metadata": {},
   "outputs": [
    {
     "data": {
      "text/plain": [
       "'C:\\\\Users\\\\Administrator\\\\final project'"
      ]
     },
     "execution_count": 2,
     "metadata": {},
     "output_type": "execute_result"
    }
   ],
   "source": [
    "%pwd"
   ]
  },
  {
   "cell_type": "code",
   "execution_count": 3,
   "metadata": {},
   "outputs": [],
   "source": [
    "import pandas as pd\n",
    "import re\n",
    "import matplotlib.pyplot as plt"
   ]
  },
  {
   "cell_type": "code",
   "execution_count": 4,
   "metadata": {
    "scrolled": true
   },
   "outputs": [
    {
     "name": "stdout",
     "output_type": "stream",
     "text": [
      "(224994, 6)\n"
     ]
    },
    {
     "data": {
      "text/html": [
       "<div>\n",
       "<style scoped>\n",
       "    .dataframe tbody tr th:only-of-type {\n",
       "        vertical-align: middle;\n",
       "    }\n",
       "\n",
       "    .dataframe tbody tr th {\n",
       "        vertical-align: top;\n",
       "    }\n",
       "\n",
       "    .dataframe thead th {\n",
       "        text-align: right;\n",
       "    }\n",
       "</style>\n",
       "<table border=\"1\" class=\"dataframe\">\n",
       "  <thead>\n",
       "    <tr style=\"text-align: right;\">\n",
       "      <th></th>\n",
       "      <th>sentiment</th>\n",
       "      <th>ids</th>\n",
       "      <th>date</th>\n",
       "      <th>flag</th>\n",
       "      <th>user</th>\n",
       "      <th>text</th>\n",
       "    </tr>\n",
       "  </thead>\n",
       "  <tbody>\n",
       "    <tr>\n",
       "      <th>0</th>\n",
       "      <td>1</td>\n",
       "      <td>1833972543</td>\n",
       "      <td>Mon May 18 01:08:27 PDT 2009</td>\n",
       "      <td>NO_QUERY</td>\n",
       "      <td>Killandra</td>\n",
       "      <td>@MissBianca76 Yes, talking helps a lot.. going...</td>\n",
       "    </tr>\n",
       "    <tr>\n",
       "      <th>1</th>\n",
       "      <td>1</td>\n",
       "      <td>1980318193</td>\n",
       "      <td>Sun May 31 06:23:17 PDT 2009</td>\n",
       "      <td>NO_QUERY</td>\n",
       "      <td>IMlisacowan</td>\n",
       "      <td>SUNSHINE. livingg itttt. imma lie on the grass...</td>\n",
       "    </tr>\n",
       "    <tr>\n",
       "      <th>2</th>\n",
       "      <td>1</td>\n",
       "      <td>1994409198</td>\n",
       "      <td>Mon Jun 01 11:52:54 PDT 2009</td>\n",
       "      <td>NO_QUERY</td>\n",
       "      <td>yaseminx3</td>\n",
       "      <td>@PleaseBeMine Something for your iphone</td>\n",
       "    </tr>\n",
       "    <tr>\n",
       "      <th>3</th>\n",
       "      <td>0</td>\n",
       "      <td>1824749377</td>\n",
       "      <td>Sun May 17 02:45:34 PDT 2009</td>\n",
       "      <td>NO_QUERY</td>\n",
       "      <td>no_surprises</td>\n",
       "      <td>@GabrielSaporta couldn't get in to the after p...</td>\n",
       "    </tr>\n",
       "    <tr>\n",
       "      <th>4</th>\n",
       "      <td>0</td>\n",
       "      <td>2001199113</td>\n",
       "      <td>Tue Jun 02 00:08:07 PDT 2009</td>\n",
       "      <td>NO_QUERY</td>\n",
       "      <td>Rhi_ShortStack</td>\n",
       "      <td>@bradiewebbstack awww is andy being mean again...</td>\n",
       "    </tr>\n",
       "  </tbody>\n",
       "</table>\n",
       "</div>"
      ],
      "text/plain": [
       "   sentiment         ids                          date      flag  \\\n",
       "0          1  1833972543  Mon May 18 01:08:27 PDT 2009  NO_QUERY   \n",
       "1          1  1980318193  Sun May 31 06:23:17 PDT 2009  NO_QUERY   \n",
       "2          1  1994409198  Mon Jun 01 11:52:54 PDT 2009  NO_QUERY   \n",
       "3          0  1824749377  Sun May 17 02:45:34 PDT 2009  NO_QUERY   \n",
       "4          0  2001199113  Tue Jun 02 00:08:07 PDT 2009  NO_QUERY   \n",
       "\n",
       "             user                                               text  \n",
       "0       Killandra  @MissBianca76 Yes, talking helps a lot.. going...  \n",
       "1     IMlisacowan  SUNSHINE. livingg itttt. imma lie on the grass...  \n",
       "2       yaseminx3           @PleaseBeMine Something for your iphone   \n",
       "3    no_surprises  @GabrielSaporta couldn't get in to the after p...  \n",
       "4  Rhi_ShortStack  @bradiewebbstack awww is andy being mean again...  "
      ]
     },
     "execution_count": 4,
     "metadata": {},
     "output_type": "execute_result"
    }
   ],
   "source": [
    "dev = pd.read_csv(\"DSL2122_january_dataset/development.csv\")\n",
    "eval = pd.read_csv(\"DSL2122_january_dataset/evaluation.csv\")\n",
    "print(dev.shape)\n",
    "dev.head()"
   ]
  },
  {
   "cell_type": "code",
   "execution_count": 5,
   "metadata": {},
   "outputs": [],
   "source": [
    "dev_labels = dev.sentiment.tolist()\n",
    "dev_texts = dev.text.tolist()\n",
    "\n",
    "eval_texts = eval.text.tolist()"
   ]
  },
  {
   "cell_type": "code",
   "execution_count": 22,
   "metadata": {},
   "outputs": [
    {
     "data": {
      "text/plain": [
       "0         1\n",
       "1         1\n",
       "2         1\n",
       "3         0\n",
       "4         0\n",
       "         ..\n",
       "224989    0\n",
       "224990    1\n",
       "224991    0\n",
       "224992    0\n",
       "224993    1\n",
       "Name: sentiment, Length: 224994, dtype: int64"
      ]
     },
     "execution_count": 22,
     "metadata": {},
     "output_type": "execute_result"
    }
   ],
   "source": [
    "dev.sentiment"
   ]
  },
  {
   "cell_type": "code",
   "execution_count": 27,
   "metadata": {},
   "outputs": [],
   "source": [
    "pos_dev = []\n",
    "neg_dev = []\n",
    "\n",
    "for se, text in zip(dev.sentiment, dev.text):\n",
    "    if se == 1:\n",
    "        pos_dev.append(text)\n",
    "    else:\n",
    "        neg_dev.append(text)"
   ]
  },
  {
   "cell_type": "code",
   "execution_count": 29,
   "metadata": {},
   "outputs": [
    {
     "name": "stdout",
     "output_type": "stream",
     "text": [
      "359 6 77.65183516004872\n"
     ]
    },
    {
     "data": {
      "image/png": "[encoded data removed]",
      "text/plain": [
       "<Figure size 432x288 with 1 Axes>"
      ]
     },
     "metadata": {
      "needs_background": "light"
     },
     "output_type": "display_data"
    }
   ],
   "source": [
    "text_len = []\n",
    "\n",
    "for text in dev_texts:\n",
    "    text_len.append(len(text))\n",
    "print(max(text_len), min(text_len), sum(text_len)/len(text_len))\n",
    "\n",
    "bins = list(range(0, 200, 4))\n",
    "plt.hist(text_len, bins=bins)\n",
    "\n",
    "plt.xlabel(\"Length of text\")\n",
    "plt.ylabel(\"Number of text\")\n",
    "plt.savefig(\"Text_length_Distribution.jpg\")"
   ]
  },
  {
   "cell_type": "code",
   "execution_count": 30,
   "metadata": {},
   "outputs": [
    {
     "name": "stdout",
     "output_type": "stream",
     "text": [
      "[153806, 14747, 9851]\n"
     ]
    }
   ],
   "source": [
    "num = [0, 0, 0]\n",
    "for text in dev_texts:\n",
    "    if text.count('@', 0, len(text)) > 0 :\n",
    "        num[0] = num[0] + 1\n",
    "    if text.count('&', 0, len(text)) > 0 :\n",
    "        num[1] = num[1] + 1\n",
    "    if text.count('http', 0, len(text)) > 0 :\n",
    "        num[2] = num[2] + 1\n",
    "print(num)"
   ]
  },
  {
   "cell_type": "markdown",
   "metadata": {},
   "source": [
    "2.Processceing:\n"
   ]
  },
  {
   "cell_type": "markdown",
   "metadata": {},
   "source": [
    "Define a text filter (regular expression matching)"
   ]
  },
  {
   "cell_type": "code",
   "execution_count": 31,
   "metadata": {},
   "outputs": [],
   "source": [
    "def filter(texts):\n",
    "    pat_1 = re.compile(r\"(@.*?) \")\n",
    "    pat_2 = re.compile(r\"(&.*?[ |;])\")\n",
    "    pat_3 = re.compile(r\"[.|,|?|!|-|*|:|$|£|¥|\\\\]\")\n",
    "    new_texts = []\n",
    "    for text in texts:\n",
    "        text_rm = pat_1.sub(\"\", text)\n",
    "        text_rm = pat_2.sub(\"\", text_rm)\n",
    "        text_rm = pat_3.sub(\"\", text_rm)\n",
    "        text_rm = text_rm.lower()\n",
    "        new_texts.append(text_rm)\n",
    "    return new_texts"
   ]
  },
  {
   "cell_type": "markdown",
   "metadata": {},
   "source": [
    "filter data"
   ]
  },
  {
   "cell_type": "code",
   "execution_count": 36,
   "metadata": {},
   "outputs": [
    {
     "name": "stdout",
     "output_type": "stream",
     "text": [
      "224994 224994\n",
      "[\"yes talking helps a lot going through it there's no judgment most sentences end with you know what i mean \", 'sunshine livingg itttt imma lie on the grass listening to oasis reading  burnt already', 'something for your iphone ', \"couldn't get in to the after party \", 'awww is andy being mean again  now i want maccas ', \"i'm getting so anxious about tomorrow help \", 'the doctors and masters are screwed then ', 'barely been used ', \"hahah it can't work on livejournal \", 'ugh sorry ur sick  fresh fruit drinks  vits e c b echinacea  golden seal rest is nice']\n"
     ]
    }
   ],
   "source": [
    "dev_texts = filter(dev_texts)\n",
    "eval_texts = filter(eval_texts)\n",
    "\n",
    "print(len(dev_labels), len(dev_texts))\n",
    "print(dev_texts[:10])"
   ]
  },
  {
   "cell_type": "code",
   "execution_count": 37,
   "metadata": {},
   "outputs": [],
   "source": [
    "pos_dev = filter(pos_dev)\n",
    "neg_dev = filter(neg_dev)"
   ]
  },
  {
   "cell_type": "markdown",
   "metadata": {},
   "source": [
    "For SVM -- make vocabulary"
   ]
  },
  {
   "cell_type": "code",
   "execution_count": 38,
   "metadata": {},
   "outputs": [],
   "source": [
    "from collections import Counter\n",
    "import numpy as np\n",
    "from sklearn.feature_extraction.text import TfidfVectorizer\n",
    "from sklearn.svm import LinearSVC\n",
    "from sklearn.metrics import f1_score"
   ]
  },
  {
   "cell_type": "code",
   "execution_count": 39,
   "metadata": {},
   "outputs": [],
   "source": [
    "vocab = []\n",
    "for text in dev_texts:\n",
    "    text_list = text.split(\" \")\n",
    "    vocab.extend(text_list)"
   ]
  },
  {
   "cell_type": "code",
   "execution_count": 40,
   "metadata": {},
   "outputs": [
    {
     "name": "stdout",
     "output_type": "stream",
     "text": [
      "[('', 291964), ('i', 115018), ('to', 72712), ('the', 69132), ('a', 53270), ('you', 50779), ('and', 39135), ('my', 38530), ('it', 38236), ('is', 29322)]\n",
      "[('savage', 1), ('dejected', 1), ('http//twitpiccom/5cnik', 1), ('bikinidnt', 1), ('ithope', 1), ('double-', 1), ('bdr', 1), ('infofrustration', 1), ('meezybby', 1), (\"showerin'\", 1)]\n",
      "124834\n"
     ]
    }
   ],
   "source": [
    "all_counter = Counter(vocab)\n",
    "all_counter = sorted(all_counter.items(), key=lambda i: i[1], reverse=True)\n",
    "print(all_counter[:10])\n",
    "print(all_counter[-10:])\n",
    "print(len(all_counter))"
   ]
  },
  {
   "cell_type": "code",
   "execution_count": 44,
   "metadata": {},
   "outputs": [
    {
     "data": {
      "image/png": "[encoded data removed]",
      "text/plain": [
       "<Figure size 432x288 with 1 Axes>"
      ]
     },
     "metadata": {
      "needs_background": "light"
     },
     "output_type": "display_data"
    }
   ],
   "source": [
    "import wordcloud\n",
    "from wordcloud import STOPWORDS\n",
    "from PIL import Image\n",
    "\n",
    "str_pos =  ''\n",
    "str_pos = str_pos.join(pos_dev)\n",
    "\n",
    "\n",
    "stop_words = STOPWORDS.update([\"u\", \"co\", \"RT\"])\n",
    "backgroud = np.array(Image.open(\"twitter.jpg\"))\n",
    "wc = wordcloud.WordCloud(stopwords = stop_words, background_color='white', mask=backgroud)\n",
    "\n",
    "wc.generate(str_pos)\n",
    "plt.axis(\"off\")\n",
    "\n",
    "plt.imshow(wc)\n",
    "\n",
    "plt.savefig(\"Most frequent words in twitter positive texts.png\")"
   ]
  },
  {
   "cell_type": "code",
   "execution_count": 52,
   "metadata": {},
   "outputs": [
    {
     "data": {
      "image/png": "[encoded data removed]",
      "text/plain": [
       "<Figure size 432x288 with 1 Axes>"
      ]
     },
     "metadata": {
      "needs_background": "light"
     },
     "output_type": "display_data"
    }
   ],
   "source": [
    "str_neg =  ''\n",
    "str_neg = str_neg.join(neg_dev)\n",
    "\n",
    "\n",
    "stop_words = STOPWORDS.update([\"u\", \"co\"])\n",
    "backgroud = np.array(Image.open(\"twitter.jpg\"))\n",
    "wc = wordcloud.WordCloud(stopwords = stop_words, background_color='white', mask=backgroud)\n",
    "\n",
    "wc.generate(str_neg)\n",
    "plt.axis(\"off\")\n",
    "\n",
    "plt.imshow(wc)\n",
    "\n",
    "plt.savefig(\"Most frequent words in twitter negative texts.png\")"
   ]
  },
  {
   "cell_type": "markdown",
   "metadata": {},
   "source": [
    "Filter lower word"
   ]
  },
  {
   "cell_type": "code",
   "execution_count": 10,
   "metadata": {},
   "outputs": [
    {
     "name": "stdout",
     "output_type": "stream",
     "text": [
      "20799\n",
      "1\n"
     ]
    }
   ],
   "source": [
    "vocab = [x[0] for x in all_counter if x[1]>=4]\n",
    "vocab_index = {w:i for i, w in enumerate(vocab)}\n",
    "print(len(vocab))\n",
    "print(vocab_index[\"i\"])"
   ]
  },
  {
   "cell_type": "code",
   "execution_count": 11,
   "metadata": {},
   "outputs": [
    {
     "data": {
      "text/plain": [
       "((224994, 20799), (224994,))"
      ]
     },
     "execution_count": 11,
     "metadata": {},
     "output_type": "execute_result"
    }
   ],
   "source": [
    "vectorizer = TfidfVectorizer(vocabulary=vocab_index)\n",
    "dev_X = vectorizer.fit_transform(dev_texts)\n",
    "dev_y = np.array(dev_labels)\n",
    "dev_X.shape, dev_y.shape"
   ]
  },
  {
   "cell_type": "code",
   "execution_count": 12,
   "metadata": {},
   "outputs": [
    {
     "name": "stdout",
     "output_type": "stream",
     "text": [
      "acc@dev: 0.8224, tol: 0.002.\n",
      "acc@dev: 0.8224, tol: 0.001.\n",
      "acc@dev: 0.8224, tol: 0.0005.\n",
      "acc@dev: 0.8224, tol: 0.0001.\n",
      "acc@dev: 0.8224, tol: 5e-05.\n",
      "acc@dev: 0.8224, tol: 1e-05.\n",
      "acc@dev: 0.8224, tol: 5e-06.\n",
      "acc@dev: 0.8224, tol: 1e-06.\n"
     ]
    }
   ],
   "source": [
    "tol_list = [2e-3,1e-3,5e-4,1e-4,5e-5,1e-5,5e-6,1e-6]\n",
    "for tols in tol_list:\n",
    "    clf = LinearSVC(random_state=0, tol=tols)\n",
    "    clf.fit(dev_X,dev_y)\n",
    "    dev_acc = clf.score(dev_X, dev_y)\n",
    "    print(f\"acc@dev: {dev_acc:.4f}, tol: {tols}.\")"
   ]
  },
  {
   "cell_type": "code",
   "execution_count": 19,
   "metadata": {},
   "outputs": [
    {
     "name": "stdout",
     "output_type": "stream",
     "text": [
      "acc@dev: 0.82.\n"
     ]
    }
   ],
   "source": [
    "clf = LinearSVC(random_state=0, tol=1e-5)\n",
    "clf.fit(dev_X,dev_y)\n",
    "dev_acc = clf.score(dev_X, dev_y)\n",
    "print(f\"acc@dev: {dev_acc:.2f}.\")"
   ]
  },
  {
   "cell_type": "code",
   "execution_count": 20,
   "metadata": {},
   "outputs": [
    {
     "name": "stdout",
     "output_type": "stream",
     "text": [
      "F1@dev: 0.82.\n"
     ]
    }
   ],
   "source": [
    "dev_pred_y = clf.predict(dev_X)\n",
    "dev_f1 = f1_score(dev_y, dev_pred_y, average = 'macro')\n",
    "print(f\"F1@dev: {dev_f1:.2f}.\")"
   ]
  },
  {
   "cell_type": "markdown",
   "metadata": {},
   "source": [
    "Predict on Eval"
   ]
  },
  {
   "cell_type": "code",
   "execution_count": 21,
   "metadata": {},
   "outputs": [],
   "source": [
    "eval_X = vectorizer.fit_transform(eval_texts)"
   ]
  },
  {
   "cell_type": "code",
   "execution_count": 22,
   "metadata": {},
   "outputs": [],
   "source": [
    "eval_pred_y = clf.predict(eval_X)"
   ]
  },
  {
   "cell_type": "code",
   "execution_count": 23,
   "metadata": {},
   "outputs": [
    {
     "name": "stdout",
     "output_type": "stream",
     "text": [
      "   Id  Predicted\n",
      "0   0          1\n",
      "1   1          1\n",
      "2   2          0\n",
      "3   3          1\n",
      "4   4          1\n"
     ]
    }
   ],
   "source": [
    "result_df = pd.DataFrame(columns=['Id', 'Predicted'])\n",
    "result_df['Id'] = np.arange(eval_pred_y.shape[0])\n",
    "result_df['Predicted'] = eval_pred_y\n",
    "print(result_df.head())"
   ]
  },
  {
   "cell_type": "markdown",
   "metadata": {},
   "source": [
    "Save the result"
   ]
  },
  {
   "cell_type": "code",
   "execution_count": 24,
   "metadata": {},
   "outputs": [],
   "source": [
    "result_df.to_csv(\"svm_pred.csv\", index=False)"
   ]
  },
  {
   "cell_type": "markdown",
   "metadata": {},
   "source": [
    "For roBERTa: --prerocessing"
   ]
  },
  {
   "cell_type": "code",
   "execution_count": 25,
   "metadata": {},
   "outputs": [],
   "source": [
    "from sklearn.model_selection import train_test_split\n",
    "from transformers import RobertaTokenizer"
   ]
  },
  {
   "cell_type": "code",
   "execution_count": 26,
   "metadata": {},
   "outputs": [],
   "source": [
    "tokenizer = RobertaTokenizer.from_pretrained(\"roberta-base\")"
   ]
  },
  {
   "cell_type": "code",
   "execution_count": 27,
   "metadata": {},
   "outputs": [],
   "source": [
    "dev_tkids = []\n",
    "for text, label in zip(dev_texts, dev_labels):\n",
    "    tk_result = tokenizer(text=text)\n",
    "    tid, att = tk_result.values()\n",
    "    dev_tkids.append(tid)"
   ]
  },
  {
   "cell_type": "markdown",
   "metadata": {},
   "source": [
    "Histogram of Sequence Length"
   ]
  },
  {
   "cell_type": "code",
   "execution_count": 28,
   "metadata": {},
   "outputs": [
    {
     "name": "stdout",
     "output_type": "stream",
     "text": [
      "415 2 19.089175711352304\n"
     ]
    }
   ],
   "source": [
    "tkids_lens = []\n",
    "for tkids in dev_tkids:\n",
    "    tkids_lens.append(len(tkids))\n",
    "print(max(tkids_lens), min(tkids_lens), sum(tkids_lens)/len(tkids_lens))\n",
    "    "
   ]
  },
  {
   "cell_type": "code",
   "execution_count": 30,
   "metadata": {},
   "outputs": [
    {
     "name": "stdout",
     "output_type": "stream",
     "text": [
      "107\n"
     ]
    }
   ],
   "source": [
    "over = [x for x in tkids_lens if x>50]\n",
    "print(len(over))"
   ]
  },
  {
   "cell_type": "code",
   "execution_count": 31,
   "metadata": {},
   "outputs": [],
   "source": [
    "import matplotlib.pyplot as plt"
   ]
  },
  {
   "cell_type": "code",
   "execution_count": 32,
   "metadata": {},
   "outputs": [
    {
     "data": {
      "image/png": "[encoded data removed]",
      "text/plain": [
       "<Figure size 432x288 with 1 Axes>"
      ]
     },
     "metadata": {
      "needs_background": "light"
     },
     "output_type": "display_data"
    }
   ],
   "source": [
    "bins = list(range(0, 100, 4))\n",
    "plt.hist(tkids_lens, bins=bins)\n",
    "plt.xlabel(\"Length of tokens\")\n",
    "plt.ylabel(\"Number of tokens\")\n",
    "plt.savefig(\"Length_Distribution.jpg\")"
   ]
  },
  {
   "cell_type": "markdown",
   "metadata": {},
   "source": [
    "maxlength can be choosen as 50"
   ]
  },
  {
   "cell_type": "code",
   "execution_count": 33,
   "metadata": {},
   "outputs": [],
   "source": [
    "import pickle as pkl"
   ]
  },
  {
   "cell_type": "code",
   "execution_count": 34,
   "metadata": {},
   "outputs": [],
   "source": [
    "model_max_length = 50"
   ]
  },
  {
   "cell_type": "code",
   "execution_count": 35,
   "metadata": {},
   "outputs": [],
   "source": [
    "dev_labels = dev.sentiment.tolist()\n",
    "dev_texts = dev.text.tolist()\n",
    "dev_texts = filter(dev_texts)\n",
    "\n",
    "eval_texts = eval.text.tolist()\n",
    "eval_texts = filter(eval_texts)"
   ]
  },
  {
   "cell_type": "markdown",
   "metadata": {},
   "source": [
    "Process with developemnt data"
   ]
  },
  {
   "cell_type": "code",
   "execution_count": 36,
   "metadata": {},
   "outputs": [
    {
     "name": "stdout",
     "output_type": "stream",
     "text": [
      "224994 sentences are longer than 50 in train.\n",
      "Processed train size: (224994, 50).\n"
     ]
    }
   ],
   "source": [
    "dev_tkids, dev_atts, y = [], [], []\n",
    "num_of_too_long_case = 0\n",
    "for text, label in zip(dev_texts, dev_labels):\n",
    "    tk_result = tokenizer(text = text, padding = \"max_length\")\n",
    "    tid, att = tk_result['input_ids'], tk_result['attention_mask']\n",
    "    if len(tid) > model_max_length:\n",
    "        num_of_too_long_case +=1\n",
    "        tid, att = tid[:model_max_length], att[:model_max_length]\n",
    "    dev_tkids.append(tid)\n",
    "    dev_atts.append(att)\n",
    "    y.append(label)\n",
    "print(f\"{num_of_too_long_case} sentences are longer than {model_max_length} in train.\")\n",
    "tkids,atts, y = np.array(dev_tkids),np.array(dev_atts), np.array(y)\n",
    "pkl_data = dict(tkids=tkids,atts=atts, y=y)\n",
    "print(f\"Processed train size: {tkids.shape}.\")\n",
    "with open(\"train_data\",\"wb\") as f:\n",
    "    pkl.dump(pkl_data,f)"
   ]
  },
  {
   "cell_type": "markdown",
   "metadata": {},
   "source": [
    "Process with evaluation data"
   ]
  },
  {
   "cell_type": "code",
   "execution_count": 37,
   "metadata": {},
   "outputs": [
    {
     "name": "stdout",
     "output_type": "stream",
     "text": [
      "74999 sentences are longer than 50 in eval.\n",
      "Processed eval size: (74999, 50).\n"
     ]
    }
   ],
   "source": [
    "eval_tkids, eval_atts = [], []\n",
    "num_of_too_long_case = 0\n",
    "for text in eval_texts:\n",
    "    tk_result = tokenizer(text=text,padding =\"max_length\")\n",
    "    tid, att = tk_result['input_ids'], tk_result['attention_mask']\n",
    "    if len(tid) > model_max_length:\n",
    "        num_of_too_long_case += 1\n",
    "        tid, att = tid[:model_max_length], att[:model_max_length]\n",
    "    eval_tkids.append(tid)\n",
    "    eval_atts.append(att)\n",
    "print(f\"{num_of_too_long_case} sentences are longer than {model_max_length} in eval.\")\n",
    "tkids,atts = np.array(eval_tkids),np.array(eval_atts)\n",
    "pkl_data = dict(tkids=tkids, atts=atts)\n",
    "print(f\"Processed eval size: {tkids.shape}.\")\n",
    "with open(\"eval_data\",\"wb\") as f:\n",
    "    pkl.dump(pkl_data,f)"
   ]
  },
  {
   "cell_type": "markdown",
   "metadata": {},
   "source": [
    "roBERTa----train"
   ]
  },
  {
   "cell_type": "code",
   "execution_count": 6,
   "metadata": {},
   "outputs": [],
   "source": [
    "import os\n",
    "import sys\n",
    "import time\n",
    "import random\n",
    "import logging\n",
    "import numpy as np\n",
    "import torch"
   ]
  },
  {
   "cell_type": "markdown",
   "metadata": {},
   "source": [
    "Setup random seed to avoid the impact of randomness."
   ]
  },
  {
   "cell_type": "code",
   "execution_count": 6,
   "metadata": {},
   "outputs": [],
   "source": [
    "def setup_seed(seed):\n",
    "    torch.manual_seed(seed)\n",
    "    torch.cuda.manual_seed_all(seed)\n",
    "    np.random.seed(seed)\n",
    "    torch.backends.cudnn.deterministic = True"
   ]
  },
  {
   "cell_type": "code",
   "execution_count": 2,
   "metadata": {},
   "outputs": [],
   "source": [
    "from transformers import RobertaForSequenceClassification, RobertaConfig, RobertaTokenizer\n",
    "from torch.utils.data import DataLoader, TensorDataset\n",
    "from sklearn.metrics import accuracy_score\n",
    "import argparse\n",
    "from sklearn.model_selection import train_test_split\n",
    "import pickle as pkl"
   ]
  },
  {
   "cell_type": "code",
   "execution_count": 3,
   "metadata": {},
   "outputs": [],
   "source": [
    "LR = 1e-5\n",
    "WD = 0.001\n",
    "EPOCH = 2\n",
    "BS = 60\n",
    "SD = 10\n",
    "OPT = \"Adam\"\n",
    "ML = 50\n",
    "DID= 0"
   ]
  },
  {
   "cell_type": "code",
   "execution_count": 9,
   "metadata": {},
   "outputs": [],
   "source": [
    "setup_seed(SD)"
   ]
  },
  {
   "cell_type": "markdown",
   "metadata": {},
   "source": [
    "split into train and test data"
   ]
  },
  {
   "cell_type": "code",
   "execution_count": 10,
   "metadata": {},
   "outputs": [
    {
     "name": "stdout",
     "output_type": "stream",
     "text": [
      "train size: (179995, 100), test size: (44999, 100)\n"
     ]
    }
   ],
   "source": [
    "with open(\"train_data\",\"rb\") as f:\n",
    "    data = pkl.load(f)\n",
    "\n",
    "tkids, atts, y = data[\"tkids\"], data[\"atts\"], data[\"y\"]\n",
    "\n",
    "X = np.hstack([tkids, atts])\n",
    "X_train, X_test, y_train, y_test = train_test_split(X, y, test_size=0.2, random_state = 42)\n",
    "X_train, X_test, y_train, y_test = np.asarray(X_train), np.asarray(X_test), np.asarray(y_train), np.asarray(y_test)\n",
    "print(f\"train size: {X_train.shape}, test size: {X_test.shape}\")"
   ]
  },
  {
   "cell_type": "code",
   "execution_count": 11,
   "metadata": {
    "collapsed": true
   },
   "outputs": [],
   "source": [
    "trainingDataset = TensorDataset(torch.from_numpy(X_train),torch.from_numpy(y_train))\n",
    "trainingDataloader = DataLoader(trainingDataset, batch_size = BS, shuffle = True)"
   ]
  },
  {
   "cell_type": "code",
   "execution_count": 12,
   "metadata": {},
   "outputs": [],
   "source": [
    "testDataset = TensorDataset(torch.from_numpy(X_test),torch.from_numpy(y_test))\n",
    "testDataloader = DataLoader(testDataset,batch_size=BS,shuffle=False)"
   ]
  },
  {
   "cell_type": "markdown",
   "metadata": {},
   "source": [
    "Modeling"
   ]
  },
  {
   "cell_type": "code",
   "execution_count": 13,
   "metadata": {},
   "outputs": [
    {
     "name": "stderr",
     "output_type": "stream",
     "text": [
      "Some weights of the model checkpoint at roberta-base were not used when initializing RobertaForSequenceClassification: ['lm_head.dense.weight', 'roberta.pooler.dense.bias', 'lm_head.dense.bias', 'lm_head.layer_norm.weight', 'lm_head.layer_norm.bias', 'roberta.pooler.dense.weight', 'lm_head.bias', 'lm_head.decoder.weight']\n",
      "- This IS expected if you are initializing RobertaForSequenceClassification from the checkpoint of a model trained on another task or with another architecture (e.g. initializing a BertForSequenceClassification model from a BertForPreTraining model).\n",
      "- This IS NOT expected if you are initializing RobertaForSequenceClassification from the checkpoint of a model that you expect to be exactly identical (initializing a BertForSequenceClassification model from a BertForSequenceClassification model).\n",
      "Some weights of RobertaForSequenceClassification were not initialized from the model checkpoint at roberta-base and are newly initialized: ['classifier.out_proj.bias', 'classifier.dense.weight', 'classifier.out_proj.weight', 'classifier.dense.bias']\n",
      "You should probably TRAIN this model on a down-stream task to be able to use it for predictions and inference.\n"
     ]
    }
   ],
   "source": [
    "model = RobertaForSequenceClassification.from_pretrained(\"roberta-base\")\n",
    "# model.init_weights()"
   ]
  },
  {
   "cell_type": "markdown",
   "metadata": {},
   "source": [
    "Define training device"
   ]
  },
  {
   "cell_type": "code",
   "execution_count": 14,
   "metadata": {},
   "outputs": [
    {
     "data": {
      "text/plain": [
       "RobertaForSequenceClassification(\n",
       "  (roberta): RobertaModel(\n",
       "    (embeddings): RobertaEmbeddings(\n",
       "      (word_embeddings): Embedding(50265, 768, padding_idx=1)\n",
       "      (position_embeddings): Embedding(514, 768, padding_idx=1)\n",
       "      (token_type_embeddings): Embedding(1, 768)\n",
       "      (LayerNorm): LayerNorm((768,), eps=1e-05, elementwise_affine=True)\n",
       "      (dropout): Dropout(p=0.1, inplace=False)\n",
       "    )\n",
       "    (encoder): RobertaEncoder(\n",
       "      (layer): ModuleList(\n",
       "        (0): RobertaLayer(\n",
       "          (attention): RobertaAttention(\n",
       "            (self): RobertaSelfAttention(\n",
       "              (query): Linear(in_features=768, out_features=768, bias=True)\n",
       "              (key): Linear(in_features=768, out_features=768, bias=True)\n",
       "              (value): Linear(in_features=768, out_features=768, bias=True)\n",
       "              (dropout): Dropout(p=0.1, inplace=False)\n",
       "            )\n",
       "            (output): RobertaSelfOutput(\n",
       "              (dense): Linear(in_features=768, out_features=768, bias=True)\n",
       "              (LayerNorm): LayerNorm((768,), eps=1e-05, elementwise_affine=True)\n",
       "              (dropout): Dropout(p=0.1, inplace=False)\n",
       "            )\n",
       "          )\n",
       "          (intermediate): RobertaIntermediate(\n",
       "            (dense): Linear(in_features=768, out_features=3072, bias=True)\n",
       "          )\n",
       "          (output): RobertaOutput(\n",
       "            (dense): Linear(in_features=3072, out_features=768, bias=True)\n",
       "            (LayerNorm): LayerNorm((768,), eps=1e-05, elementwise_affine=True)\n",
       "            (dropout): Dropout(p=0.1, inplace=False)\n",
       "          )\n",
       "        )\n",
       "        (1): RobertaLayer(\n",
       "          (attention): RobertaAttention(\n",
       "            (self): RobertaSelfAttention(\n",
       "              (query): Linear(in_features=768, out_features=768, bias=True)\n",
       "              (key): Linear(in_features=768, out_features=768, bias=True)\n",
       "              (value): Linear(in_features=768, out_features=768, bias=True)\n",
       "              (dropout): Dropout(p=0.1, inplace=False)\n",
       "            )\n",
       "            (output): RobertaSelfOutput(\n",
       "              (dense): Linear(in_features=768, out_features=768, bias=True)\n",
       "              (LayerNorm): LayerNorm((768,), eps=1e-05, elementwise_affine=True)\n",
       "              (dropout): Dropout(p=0.1, inplace=False)\n",
       "            )\n",
       "          )\n",
       "          (intermediate): RobertaIntermediate(\n",
       "            (dense): Linear(in_features=768, out_features=3072, bias=True)\n",
       "          )\n",
       "          (output): RobertaOutput(\n",
       "            (dense): Linear(in_features=3072, out_features=768, bias=True)\n",
       "            (LayerNorm): LayerNorm((768,), eps=1e-05, elementwise_affine=True)\n",
       "            (dropout): Dropout(p=0.1, inplace=False)\n",
       "          )\n",
       "        )\n",
       "        (2): RobertaLayer(\n",
       "          (attention): RobertaAttention(\n",
       "            (self): RobertaSelfAttention(\n",
       "              (query): Linear(in_features=768, out_features=768, bias=True)\n",
       "              (key): Linear(in_features=768, out_features=768, bias=True)\n",
       "              (value): Linear(in_features=768, out_features=768, bias=True)\n",
       "              (dropout): Dropout(p=0.1, inplace=False)\n",
       "            )\n",
       "            (output): RobertaSelfOutput(\n",
       "              (dense): Linear(in_features=768, out_features=768, bias=True)\n",
       "              (LayerNorm): LayerNorm((768,), eps=1e-05, elementwise_affine=True)\n",
       "              (dropout): Dropout(p=0.1, inplace=False)\n",
       "            )\n",
       "          )\n",
       "          (intermediate): RobertaIntermediate(\n",
       "            (dense): Linear(in_features=768, out_features=3072, bias=True)\n",
       "          )\n",
       "          (output): RobertaOutput(\n",
       "            (dense): Linear(in_features=3072, out_features=768, bias=True)\n",
       "            (LayerNorm): LayerNorm((768,), eps=1e-05, elementwise_affine=True)\n",
       "            (dropout): Dropout(p=0.1, inplace=False)\n",
       "          )\n",
       "        )\n",
       "        (3): RobertaLayer(\n",
       "          (attention): RobertaAttention(\n",
       "            (self): RobertaSelfAttention(\n",
       "              (query): Linear(in_features=768, out_features=768, bias=True)\n",
       "              (key): Linear(in_features=768, out_features=768, bias=True)\n",
       "              (value): Linear(in_features=768, out_features=768, bias=True)\n",
       "              (dropout): Dropout(p=0.1, inplace=False)\n",
       "            )\n",
       "            (output): RobertaSelfOutput(\n",
       "              (dense): Linear(in_features=768, out_features=768, bias=True)\n",
       "              (LayerNorm): LayerNorm((768,), eps=1e-05, elementwise_affine=True)\n",
       "              (dropout): Dropout(p=0.1, inplace=False)\n",
       "            )\n",
       "          )\n",
       "          (intermediate): RobertaIntermediate(\n",
       "            (dense): Linear(in_features=768, out_features=3072, bias=True)\n",
       "          )\n",
       "          (output): RobertaOutput(\n",
       "            (dense): Linear(in_features=3072, out_features=768, bias=True)\n",
       "            (LayerNorm): LayerNorm((768,), eps=1e-05, elementwise_affine=True)\n",
       "            (dropout): Dropout(p=0.1, inplace=False)\n",
       "          )\n",
       "        )\n",
       "        (4): RobertaLayer(\n",
       "          (attention): RobertaAttention(\n",
       "            (self): RobertaSelfAttention(\n",
       "              (query): Linear(in_features=768, out_features=768, bias=True)\n",
       "              (key): Linear(in_features=768, out_features=768, bias=True)\n",
       "              (value): Linear(in_features=768, out_features=768, bias=True)\n",
       "              (dropout): Dropout(p=0.1, inplace=False)\n",
       "            )\n",
       "            (output): RobertaSelfOutput(\n",
       "              (dense): Linear(in_features=768, out_features=768, bias=True)\n",
       "              (LayerNorm): LayerNorm((768,), eps=1e-05, elementwise_affine=True)\n",
       "              (dropout): Dropout(p=0.1, inplace=False)\n",
       "            )\n",
       "          )\n",
       "          (intermediate): RobertaIntermediate(\n",
       "            (dense): Linear(in_features=768, out_features=3072, bias=True)\n",
       "          )\n",
       "          (output): RobertaOutput(\n",
       "            (dense): Linear(in_features=3072, out_features=768, bias=True)\n",
       "            (LayerNorm): LayerNorm((768,), eps=1e-05, elementwise_affine=True)\n",
       "            (dropout): Dropout(p=0.1, inplace=False)\n",
       "          )\n",
       "        )\n",
       "        (5): RobertaLayer(\n",
       "          (attention): RobertaAttention(\n",
       "            (self): RobertaSelfAttention(\n",
       "              (query): Linear(in_features=768, out_features=768, bias=True)\n",
       "              (key): Linear(in_features=768, out_features=768, bias=True)\n",
       "              (value): Linear(in_features=768, out_features=768, bias=True)\n",
       "              (dropout): Dropout(p=0.1, inplace=False)\n",
       "            )\n",
       "            (output): RobertaSelfOutput(\n",
       "              (dense): Linear(in_features=768, out_features=768, bias=True)\n",
       "              (LayerNorm): LayerNorm((768,), eps=1e-05, elementwise_affine=True)\n",
       "              (dropout): Dropout(p=0.1, inplace=False)\n",
       "            )\n",
       "          )\n",
       "          (intermediate): RobertaIntermediate(\n",
       "            (dense): Linear(in_features=768, out_features=3072, bias=True)\n",
       "          )\n",
       "          (output): RobertaOutput(\n",
       "            (dense): Linear(in_features=3072, out_features=768, bias=True)\n",
       "            (LayerNorm): LayerNorm((768,), eps=1e-05, elementwise_affine=True)\n",
       "            (dropout): Dropout(p=0.1, inplace=False)\n",
       "          )\n",
       "        )\n",
       "        (6): RobertaLayer(\n",
       "          (attention): RobertaAttention(\n",
       "            (self): RobertaSelfAttention(\n",
       "              (query): Linear(in_features=768, out_features=768, bias=True)\n",
       "              (key): Linear(in_features=768, out_features=768, bias=True)\n",
       "              (value): Linear(in_features=768, out_features=768, bias=True)\n",
       "              (dropout): Dropout(p=0.1, inplace=False)\n",
       "            )\n",
       "            (output): RobertaSelfOutput(\n",
       "              (dense): Linear(in_features=768, out_features=768, bias=True)\n",
       "              (LayerNorm): LayerNorm((768,), eps=1e-05, elementwise_affine=True)\n",
       "              (dropout): Dropout(p=0.1, inplace=False)\n",
       "            )\n",
       "          )\n",
       "          (intermediate): RobertaIntermediate(\n",
       "            (dense): Linear(in_features=768, out_features=3072, bias=True)\n",
       "          )\n",
       "          (output): RobertaOutput(\n",
       "            (dense): Linear(in_features=3072, out_features=768, bias=True)\n",
       "            (LayerNorm): LayerNorm((768,), eps=1e-05, elementwise_affine=True)\n",
       "            (dropout): Dropout(p=0.1, inplace=False)\n",
       "          )\n",
       "        )\n",
       "        (7): RobertaLayer(\n",
       "          (attention): RobertaAttention(\n",
       "            (self): RobertaSelfAttention(\n",
       "              (query): Linear(in_features=768, out_features=768, bias=True)\n",
       "              (key): Linear(in_features=768, out_features=768, bias=True)\n",
       "              (value): Linear(in_features=768, out_features=768, bias=True)\n",
       "              (dropout): Dropout(p=0.1, inplace=False)\n",
       "            )\n",
       "            (output): RobertaSelfOutput(\n",
       "              (dense): Linear(in_features=768, out_features=768, bias=True)\n",
       "              (LayerNorm): LayerNorm((768,), eps=1e-05, elementwise_affine=True)\n",
       "              (dropout): Dropout(p=0.1, inplace=False)\n",
       "            )\n",
       "          )\n",
       "          (intermediate): RobertaIntermediate(\n",
       "            (dense): Linear(in_features=768, out_features=3072, bias=True)\n",
       "          )\n",
       "          (output): RobertaOutput(\n",
       "            (dense): Linear(in_features=3072, out_features=768, bias=True)\n",
       "            (LayerNorm): LayerNorm((768,), eps=1e-05, elementwise_affine=True)\n",
       "            (dropout): Dropout(p=0.1, inplace=False)\n",
       "          )\n",
       "        )\n",
       "        (8): RobertaLayer(\n",
       "          (attention): RobertaAttention(\n",
       "            (self): RobertaSelfAttention(\n",
       "              (query): Linear(in_features=768, out_features=768, bias=True)\n",
       "              (key): Linear(in_features=768, out_features=768, bias=True)\n",
       "              (value): Linear(in_features=768, out_features=768, bias=True)\n",
       "              (dropout): Dropout(p=0.1, inplace=False)\n",
       "            )\n",
       "            (output): RobertaSelfOutput(\n",
       "              (dense): Linear(in_features=768, out_features=768, bias=True)\n",
       "              (LayerNorm): LayerNorm((768,), eps=1e-05, elementwise_affine=True)\n",
       "              (dropout): Dropout(p=0.1, inplace=False)\n",
       "            )\n",
       "          )\n",
       "          (intermediate): RobertaIntermediate(\n",
       "            (dense): Linear(in_features=768, out_features=3072, bias=True)\n",
       "          )\n",
       "          (output): RobertaOutput(\n",
       "            (dense): Linear(in_features=3072, out_features=768, bias=True)\n",
       "            (LayerNorm): LayerNorm((768,), eps=1e-05, elementwise_affine=True)\n",
       "            (dropout): Dropout(p=0.1, inplace=False)\n",
       "          )\n",
       "        )\n",
       "        (9): RobertaLayer(\n",
       "          (attention): RobertaAttention(\n",
       "            (self): RobertaSelfAttention(\n",
       "              (query): Linear(in_features=768, out_features=768, bias=True)\n",
       "              (key): Linear(in_features=768, out_features=768, bias=True)\n",
       "              (value): Linear(in_features=768, out_features=768, bias=True)\n",
       "              (dropout): Dropout(p=0.1, inplace=False)\n",
       "            )\n",
       "            (output): RobertaSelfOutput(\n",
       "              (dense): Linear(in_features=768, out_features=768, bias=True)\n",
       "              (LayerNorm): LayerNorm((768,), eps=1e-05, elementwise_affine=True)\n",
       "              (dropout): Dropout(p=0.1, inplace=False)\n",
       "            )\n",
       "          )\n",
       "          (intermediate): RobertaIntermediate(\n",
       "            (dense): Linear(in_features=768, out_features=3072, bias=True)\n",
       "          )\n",
       "          (output): RobertaOutput(\n",
       "            (dense): Linear(in_features=3072, out_features=768, bias=True)\n",
       "            (LayerNorm): LayerNorm((768,), eps=1e-05, elementwise_affine=True)\n",
       "            (dropout): Dropout(p=0.1, inplace=False)\n",
       "          )\n",
       "        )\n",
       "        (10): RobertaLayer(\n",
       "          (attention): RobertaAttention(\n",
       "            (self): RobertaSelfAttention(\n",
       "              (query): Linear(in_features=768, out_features=768, bias=True)\n",
       "              (key): Linear(in_features=768, out_features=768, bias=True)\n",
       "              (value): Linear(in_features=768, out_features=768, bias=True)\n",
       "              (dropout): Dropout(p=0.1, inplace=False)\n",
       "            )\n",
       "            (output): RobertaSelfOutput(\n",
       "              (dense): Linear(in_features=768, out_features=768, bias=True)\n",
       "              (LayerNorm): LayerNorm((768,), eps=1e-05, elementwise_affine=True)\n",
       "              (dropout): Dropout(p=0.1, inplace=False)\n",
       "            )\n",
       "          )\n",
       "          (intermediate): RobertaIntermediate(\n",
       "            (dense): Linear(in_features=768, out_features=3072, bias=True)\n",
       "          )\n",
       "          (output): RobertaOutput(\n",
       "            (dense): Linear(in_features=3072, out_features=768, bias=True)\n",
       "            (LayerNorm): LayerNorm((768,), eps=1e-05, elementwise_affine=True)\n",
       "            (dropout): Dropout(p=0.1, inplace=False)\n",
       "          )\n",
       "        )\n",
       "        (11): RobertaLayer(\n",
       "          (attention): RobertaAttention(\n",
       "            (self): RobertaSelfAttention(\n",
       "              (query): Linear(in_features=768, out_features=768, bias=True)\n",
       "              (key): Linear(in_features=768, out_features=768, bias=True)\n",
       "              (value): Linear(in_features=768, out_features=768, bias=True)\n",
       "              (dropout): Dropout(p=0.1, inplace=False)\n",
       "            )\n",
       "            (output): RobertaSelfOutput(\n",
       "              (dense): Linear(in_features=768, out_features=768, bias=True)\n",
       "              (LayerNorm): LayerNorm((768,), eps=1e-05, elementwise_affine=True)\n",
       "              (dropout): Dropout(p=0.1, inplace=False)\n",
       "            )\n",
       "          )\n",
       "          (intermediate): RobertaIntermediate(\n",
       "            (dense): Linear(in_features=768, out_features=3072, bias=True)\n",
       "          )\n",
       "          (output): RobertaOutput(\n",
       "            (dense): Linear(in_features=3072, out_features=768, bias=True)\n",
       "            (LayerNorm): LayerNorm((768,), eps=1e-05, elementwise_affine=True)\n",
       "            (dropout): Dropout(p=0.1, inplace=False)\n",
       "          )\n",
       "        )\n",
       "      )\n",
       "    )\n",
       "  )\n",
       "  (classifier): RobertaClassificationHead(\n",
       "    (dense): Linear(in_features=768, out_features=768, bias=True)\n",
       "    (dropout): Dropout(p=0.1, inplace=False)\n",
       "    (out_proj): Linear(in_features=768, out_features=2, bias=True)\n",
       "  )\n",
       ")"
      ]
     },
     "execution_count": 14,
     "metadata": {},
     "output_type": "execute_result"
    }
   ],
   "source": [
    "DEVICE = torch.device(f\"cuda:{DID}\" if torch.cuda.is_available() else \"cpu\")\n",
    "model.to(DEVICE)"
   ]
  },
  {
   "cell_type": "markdown",
   "metadata": {},
   "source": [
    "Define optimizer"
   ]
  },
  {
   "cell_type": "code",
   "execution_count": 15,
   "metadata": {},
   "outputs": [],
   "source": [
    "if OPT == \"Adam\":\n",
    "    optimizer = torch.optim.Adam(model.parameters(),lr=LR,weight_decay=WD)\n",
    "elif OPT == \"SGD\":\n",
    "    optimizer = torch.optim.SGD(model.parameters(),lr=LR, weight_decay=WD)\n",
    "else:\n",
    "    raise Exception(f\"Unrecognized optimizer {OPT}.\")"
   ]
  },
  {
   "cell_type": "markdown",
   "metadata": {},
   "source": [
    "Start training"
   ]
  },
  {
   "cell_type": "code",
   "execution_count": 16,
   "metadata": {},
   "outputs": [
    {
     "name": "stdout",
     "output_type": "stream",
     "text": [
      "[0:0] loss: 0.7036 | acc@train: 0.5333\n",
      "[0:10] loss: 0.6834 | acc@train: 0.5667\n",
      "[0:20] loss: 0.6828 | acc@train: 0.5587\n",
      "[0:30] loss: 0.6799 | acc@train: 0.5656\n",
      "[0:40] loss: 0.6762 | acc@train: 0.5732\n",
      "[0:50] loss: 0.6682 | acc@train: 0.5804\n",
      "[0:60] loss: 0.6445 | acc@train: 0.6137\n",
      "[0:70] loss: 0.6225 | acc@train: 0.6380\n",
      "[0:80] loss: 0.6082 | acc@train: 0.6553\n",
      "[0:90] loss: 0.5912 | acc@train: 0.6709\n",
      "[0:100] loss: 0.5789 | acc@train: 0.6832\n",
      "[0:110] loss: 0.5670 | acc@train: 0.6932\n",
      "[0:120] loss: 0.5542 | acc@train: 0.7037\n",
      "[0:130] loss: 0.5413 | acc@train: 0.7141\n",
      "[0:140] loss: 0.5344 | acc@train: 0.7203\n",
      "[0:150] loss: 0.5269 | acc@train: 0.7265\n",
      "[0:160] loss: 0.5204 | acc@train: 0.7304\n",
      "[0:170] loss: 0.5154 | acc@train: 0.7350\n",
      "[0:180] loss: 0.5090 | acc@train: 0.7402\n",
      "[0:190] loss: 0.5000 | acc@train: 0.7467\n",
      "[0:200] loss: 0.4962 | acc@train: 0.7503\n",
      "[0:210] loss: 0.4934 | acc@train: 0.7530\n",
      "[0:220] loss: 0.4883 | acc@train: 0.7572\n",
      "[0:230] loss: 0.4847 | acc@train: 0.7597\n",
      "[0:240] loss: 0.4814 | acc@train: 0.7624\n",
      "[0:250] loss: 0.4806 | acc@train: 0.7629\n",
      "[0:260] loss: 0.4762 | acc@train: 0.7658\n",
      "[0:270] loss: 0.4739 | acc@train: 0.7678\n",
      "[0:280] loss: 0.4704 | acc@train: 0.7698\n",
      "[0:290] loss: 0.4672 | acc@train: 0.7719\n",
      "[0:300] loss: 0.4644 | acc@train: 0.7739\n",
      "[0:310] loss: 0.4619 | acc@train: 0.7756\n",
      "[0:320] loss: 0.4597 | acc@train: 0.7770\n",
      "[0:330] loss: 0.4565 | acc@train: 0.7790\n",
      "[0:340] loss: 0.4529 | acc@train: 0.7813\n",
      "[0:350] loss: 0.4510 | acc@train: 0.7823\n",
      "[0:360] loss: 0.4492 | acc@train: 0.7836\n",
      "[0:370] loss: 0.4476 | acc@train: 0.7845\n",
      "[0:380] loss: 0.4454 | acc@train: 0.7861\n",
      "[0:390] loss: 0.4430 | acc@train: 0.7877\n",
      "[0:400] loss: 0.4407 | acc@train: 0.7893\n",
      "[0:410] loss: 0.4384 | acc@train: 0.7906\n",
      "[0:420] loss: 0.4375 | acc@train: 0.7914\n",
      "[0:430] loss: 0.4360 | acc@train: 0.7923\n",
      "[0:440] loss: 0.4354 | acc@train: 0.7926\n",
      "[0:450] loss: 0.4340 | acc@train: 0.7935\n",
      "[0:460] loss: 0.4321 | acc@train: 0.7947\n",
      "[0:470] loss: 0.4303 | acc@train: 0.7956\n",
      "[0:480] loss: 0.4290 | acc@train: 0.7961\n",
      "[0:490] loss: 0.4277 | acc@train: 0.7971\n",
      "[0:500] loss: 0.4262 | acc@train: 0.7983\n",
      "[0:510] loss: 0.4250 | acc@train: 0.7993\n",
      "[0:520] loss: 0.4227 | acc@train: 0.8006\n",
      "[0:530] loss: 0.4209 | acc@train: 0.8018\n",
      "[0:540] loss: 0.4195 | acc@train: 0.8029\n",
      "[0:550] loss: 0.4185 | acc@train: 0.8037\n",
      "[0:560] loss: 0.4169 | acc@train: 0.8046\n",
      "[0:570] loss: 0.4154 | acc@train: 0.8055\n",
      "[0:580] loss: 0.4139 | acc@train: 0.8066\n",
      "[0:590] loss: 0.4126 | acc@train: 0.8073\n",
      "[0:600] loss: 0.4116 | acc@train: 0.8078\n",
      "[0:610] loss: 0.4105 | acc@train: 0.8088\n",
      "[0:620] loss: 0.4094 | acc@train: 0.8094\n",
      "[0:630] loss: 0.4080 | acc@train: 0.8102\n",
      "[0:640] loss: 0.4070 | acc@train: 0.8108\n",
      "[0:650] loss: 0.4059 | acc@train: 0.8113\n",
      "[0:660] loss: 0.4054 | acc@train: 0.8116\n",
      "[0:670] loss: 0.4045 | acc@train: 0.8122\n",
      "[0:680] loss: 0.4033 | acc@train: 0.8131\n",
      "[0:690] loss: 0.4024 | acc@train: 0.8137\n",
      "[0:700] loss: 0.4020 | acc@train: 0.8141\n",
      "[0:710] loss: 0.4011 | acc@train: 0.8146\n",
      "[0:720] loss: 0.4006 | acc@train: 0.8150\n",
      "[0:730] loss: 0.3996 | acc@train: 0.8156\n",
      "[0:740] loss: 0.3988 | acc@train: 0.8161\n",
      "[0:750] loss: 0.3984 | acc@train: 0.8165\n",
      "[0:760] loss: 0.3977 | acc@train: 0.8170\n",
      "[0:770] loss: 0.3972 | acc@train: 0.8172\n",
      "[0:780] loss: 0.3969 | acc@train: 0.8175\n",
      "[0:790] loss: 0.3964 | acc@train: 0.8177\n",
      "[0:800] loss: 0.3960 | acc@train: 0.8179\n",
      "[0:810] loss: 0.3954 | acc@train: 0.8182\n",
      "[0:820] loss: 0.3951 | acc@train: 0.8186\n",
      "[0:830] loss: 0.3941 | acc@train: 0.8192\n",
      "[0:840] loss: 0.3933 | acc@train: 0.8195\n",
      "[0:850] loss: 0.3929 | acc@train: 0.8198\n",
      "[0:860] loss: 0.3920 | acc@train: 0.8206\n",
      "[0:870] loss: 0.3911 | acc@train: 0.8213\n",
      "[0:880] loss: 0.3911 | acc@train: 0.8214\n",
      "[0:890] loss: 0.3906 | acc@train: 0.8218\n",
      "[0:900] loss: 0.3897 | acc@train: 0.8223\n",
      "[0:910] loss: 0.3893 | acc@train: 0.8225\n",
      "[0:920] loss: 0.3884 | acc@train: 0.8229\n",
      "[0:930] loss: 0.3881 | acc@train: 0.8230\n",
      "[0:940] loss: 0.3879 | acc@train: 0.8231\n",
      "[0:950] loss: 0.3876 | acc@train: 0.8233\n",
      "[0:960] loss: 0.3874 | acc@train: 0.8234\n",
      "[0:970] loss: 0.3867 | acc@train: 0.8239\n",
      "[0:980] loss: 0.3859 | acc@train: 0.8244\n",
      "[0:990] loss: 0.3851 | acc@train: 0.8251\n",
      "[0:1000] loss: 0.3845 | acc@train: 0.8254\n",
      "[0:1010] loss: 0.3843 | acc@train: 0.8254\n",
      "[0:1020] loss: 0.3837 | acc@train: 0.8258\n",
      "[0:1030] loss: 0.3832 | acc@train: 0.8262\n",
      "[0:1040] loss: 0.3828 | acc@train: 0.8265\n",
      "[0:1050] loss: 0.3823 | acc@train: 0.8268\n",
      "[0:1060] loss: 0.3824 | acc@train: 0.8269\n",
      "[0:1070] loss: 0.3818 | acc@train: 0.8273\n",
      "[0:1080] loss: 0.3813 | acc@train: 0.8276\n",
      "[0:1090] loss: 0.3812 | acc@train: 0.8275\n",
      "[0:1100] loss: 0.3813 | acc@train: 0.8274\n",
      "[0:1110] loss: 0.3812 | acc@train: 0.8275\n",
      "[0:1120] loss: 0.3808 | acc@train: 0.8278\n",
      "[0:1130] loss: 0.3801 | acc@train: 0.8281\n",
      "[0:1140] loss: 0.3796 | acc@train: 0.8284\n",
      "[0:1150] loss: 0.3795 | acc@train: 0.8286\n",
      "[0:1160] loss: 0.3789 | acc@train: 0.8290\n",
      "[0:1170] loss: 0.3783 | acc@train: 0.8294\n",
      "[0:1180] loss: 0.3780 | acc@train: 0.8296\n",
      "[0:1190] loss: 0.3781 | acc@train: 0.8297\n",
      "[0:1200] loss: 0.3778 | acc@train: 0.8299\n",
      "[0:1210] loss: 0.3778 | acc@train: 0.8299\n",
      "[0:1220] loss: 0.3774 | acc@train: 0.8301\n",
      "[0:1230] loss: 0.3769 | acc@train: 0.8304\n",
      "[0:1240] loss: 0.3762 | acc@train: 0.8308\n",
      "[0:1250] loss: 0.3760 | acc@train: 0.8310\n",
      "[0:1260] loss: 0.3758 | acc@train: 0.8311\n",
      "[0:1270] loss: 0.3758 | acc@train: 0.8311\n",
      "[0:1280] loss: 0.3757 | acc@train: 0.8312\n",
      "[0:1290] loss: 0.3754 | acc@train: 0.8314\n",
      "[0:1300] loss: 0.3752 | acc@train: 0.8314\n",
      "[0:1310] loss: 0.3749 | acc@train: 0.8315\n",
      "[0:1320] loss: 0.3744 | acc@train: 0.8318\n",
      "[0:1330] loss: 0.3742 | acc@train: 0.8320\n",
      "[0:1340] loss: 0.3739 | acc@train: 0.8322\n",
      "[0:1350] loss: 0.3734 | acc@train: 0.8325\n",
      "[0:1360] loss: 0.3734 | acc@train: 0.8324\n",
      "[0:1370] loss: 0.3736 | acc@train: 0.8323\n",
      "[0:1380] loss: 0.3732 | acc@train: 0.8326\n",
      "[0:1390] loss: 0.3730 | acc@train: 0.8327\n",
      "[0:1400] loss: 0.3727 | acc@train: 0.8328\n",
      "[0:1410] loss: 0.3726 | acc@train: 0.8330\n",
      "[0:1420] loss: 0.3721 | acc@train: 0.8333\n",
      "[0:1430] loss: 0.3716 | acc@train: 0.8335\n",
      "[0:1440] loss: 0.3714 | acc@train: 0.8336\n",
      "[0:1450] loss: 0.3710 | acc@train: 0.8339\n",
      "[0:1460] loss: 0.3704 | acc@train: 0.8342\n",
      "[0:1470] loss: 0.3702 | acc@train: 0.8343\n",
      "[0:1480] loss: 0.3698 | acc@train: 0.8346\n",
      "[0:1490] loss: 0.3697 | acc@train: 0.8348\n",
      "[0:1500] loss: 0.3692 | acc@train: 0.8350\n",
      "[0:1510] loss: 0.3690 | acc@train: 0.8351\n",
      "[0:1520] loss: 0.3687 | acc@train: 0.8353\n",
      "[0:1530] loss: 0.3681 | acc@train: 0.8357\n",
      "[0:1540] loss: 0.3677 | acc@train: 0.8360\n",
      "[0:1550] loss: 0.3672 | acc@train: 0.8363\n",
      "[0:1560] loss: 0.3671 | acc@train: 0.8365\n",
      "[0:1570] loss: 0.3669 | acc@train: 0.8366\n",
      "[0:1580] loss: 0.3667 | acc@train: 0.8366\n",
      "[0:1590] loss: 0.3668 | acc@train: 0.8366\n",
      "[0:1600] loss: 0.3667 | acc@train: 0.8367\n",
      "[0:1610] loss: 0.3666 | acc@train: 0.8367\n",
      "[0:1620] loss: 0.3660 | acc@train: 0.8370\n",
      "[0:1630] loss: 0.3657 | acc@train: 0.8372\n",
      "[0:1640] loss: 0.3656 | acc@train: 0.8373\n",
      "[0:1650] loss: 0.3651 | acc@train: 0.8375\n",
      "[0:1660] loss: 0.3649 | acc@train: 0.8376\n",
      "[0:1670] loss: 0.3645 | acc@train: 0.8378\n",
      "[0:1680] loss: 0.3644 | acc@train: 0.8378\n",
      "[0:1690] loss: 0.3642 | acc@train: 0.8380\n",
      "[0:1700] loss: 0.3642 | acc@train: 0.8380\n",
      "[0:1710] loss: 0.3641 | acc@train: 0.8380\n",
      "[0:1720] loss: 0.3639 | acc@train: 0.8382\n",
      "[0:1730] loss: 0.3639 | acc@train: 0.8381\n",
      "[0:1740] loss: 0.3637 | acc@train: 0.8381\n",
      "[0:1750] loss: 0.3633 | acc@train: 0.8384\n",
      "[0:1760] loss: 0.3631 | acc@train: 0.8385\n",
      "[0:1770] loss: 0.3630 | acc@train: 0.8386\n",
      "[0:1780] loss: 0.3627 | acc@train: 0.8388\n",
      "[0:1790] loss: 0.3625 | acc@train: 0.8389\n",
      "[0:1800] loss: 0.3624 | acc@train: 0.8390\n",
      "[0:1810] loss: 0.3622 | acc@train: 0.8391\n",
      "[0:1820] loss: 0.3620 | acc@train: 0.8392\n",
      "[0:1830] loss: 0.3616 | acc@train: 0.8394\n",
      "[0:1840] loss: 0.3613 | acc@train: 0.8395\n",
      "[0:1850] loss: 0.3612 | acc@train: 0.8396\n",
      "[0:1860] loss: 0.3611 | acc@train: 0.8396\n",
      "[0:1870] loss: 0.3610 | acc@train: 0.8397\n",
      "[0:1880] loss: 0.3605 | acc@train: 0.8400\n",
      "[0:1890] loss: 0.3604 | acc@train: 0.8400\n",
      "[0:1900] loss: 0.3603 | acc@train: 0.8400\n",
      "[0:1910] loss: 0.3602 | acc@train: 0.8400\n",
      "[0:1920] loss: 0.3599 | acc@train: 0.8402\n",
      "[0:1930] loss: 0.3599 | acc@train: 0.8401\n",
      "[0:1940] loss: 0.3598 | acc@train: 0.8402\n",
      "[0:1950] loss: 0.3595 | acc@train: 0.8404\n",
      "[0:1960] loss: 0.3594 | acc@train: 0.8404\n",
      "[0:1970] loss: 0.3591 | acc@train: 0.8406\n",
      "[0:1980] loss: 0.3590 | acc@train: 0.8406\n",
      "[0:1990] loss: 0.3589 | acc@train: 0.8407\n",
      "[0:2000] loss: 0.3587 | acc@train: 0.8408\n",
      "[0:2010] loss: 0.3588 | acc@train: 0.8408\n",
      "[0:2020] loss: 0.3587 | acc@train: 0.8409\n",
      "[0:2030] loss: 0.3585 | acc@train: 0.8410\n",
      "[0:2040] loss: 0.3583 | acc@train: 0.8410\n",
      "[0:2050] loss: 0.3581 | acc@train: 0.8411\n",
      "[0:2060] loss: 0.3581 | acc@train: 0.8411\n",
      "[0:2070] loss: 0.3578 | acc@train: 0.8412\n",
      "[0:2080] loss: 0.3575 | acc@train: 0.8412\n",
      "[0:2090] loss: 0.3575 | acc@train: 0.8412\n",
      "[0:2100] loss: 0.3573 | acc@train: 0.8414\n",
      "[0:2110] loss: 0.3570 | acc@train: 0.8415\n",
      "[0:2120] loss: 0.3568 | acc@train: 0.8416\n",
      "[0:2130] loss: 0.3566 | acc@train: 0.8417\n",
      "[0:2140] loss: 0.3566 | acc@train: 0.8417\n",
      "[0:2150] loss: 0.3565 | acc@train: 0.8418\n",
      "[0:2160] loss: 0.3563 | acc@train: 0.8419\n",
      "[0:2170] loss: 0.3563 | acc@train: 0.8419\n",
      "[0:2180] loss: 0.3559 | acc@train: 0.8420\n",
      "[0:2190] loss: 0.3559 | acc@train: 0.8421\n",
      "[0:2200] loss: 0.3557 | acc@train: 0.8423\n",
      "[0:2210] loss: 0.3556 | acc@train: 0.8423\n",
      "[0:2220] loss: 0.3558 | acc@train: 0.8423\n",
      "[0:2230] loss: 0.3558 | acc@train: 0.8422\n",
      "[0:2240] loss: 0.3556 | acc@train: 0.8422\n",
      "[0:2250] loss: 0.3559 | acc@train: 0.8421\n",
      "[0:2260] loss: 0.3558 | acc@train: 0.8422\n",
      "[0:2270] loss: 0.3558 | acc@train: 0.8423\n",
      "[0:2280] loss: 0.3557 | acc@train: 0.8423\n",
      "[0:2290] loss: 0.3557 | acc@train: 0.8423\n",
      "[0:2300] loss: 0.3557 | acc@train: 0.8423\n",
      "[0:2310] loss: 0.3556 | acc@train: 0.8423\n",
      "[0:2320] loss: 0.3554 | acc@train: 0.8425\n",
      "[0:2330] loss: 0.3553 | acc@train: 0.8425\n",
      "[0:2340] loss: 0.3550 | acc@train: 0.8426\n",
      "[0:2350] loss: 0.3551 | acc@train: 0.8426\n",
      "[0:2360] loss: 0.3549 | acc@train: 0.8427\n",
      "[0:2370] loss: 0.3547 | acc@train: 0.8428\n",
      "[0:2380] loss: 0.3548 | acc@train: 0.8428\n",
      "[0:2390] loss: 0.3548 | acc@train: 0.8428\n",
      "[0:2400] loss: 0.3547 | acc@train: 0.8428\n",
      "[0:2410] loss: 0.3544 | acc@train: 0.8429\n",
      "[0:2420] loss: 0.3544 | acc@train: 0.8430\n",
      "[0:2430] loss: 0.3544 | acc@train: 0.8429\n",
      "[0:2440] loss: 0.3543 | acc@train: 0.8430\n",
      "[0:2450] loss: 0.3541 | acc@train: 0.8431\n",
      "[0:2460] loss: 0.3539 | acc@train: 0.8432\n",
      "[0:2470] loss: 0.3538 | acc@train: 0.8432\n",
      "[0:2480] loss: 0.3536 | acc@train: 0.8433\n",
      "[0:2490] loss: 0.3536 | acc@train: 0.8434\n",
      "[0:2500] loss: 0.3535 | acc@train: 0.8434\n",
      "[0:2510] loss: 0.3534 | acc@train: 0.8435\n",
      "[0:2520] loss: 0.3532 | acc@train: 0.8436\n",
      "[0:2530] loss: 0.3532 | acc@train: 0.8436\n",
      "[0:2540] loss: 0.3530 | acc@train: 0.8438\n",
      "[0:2550] loss: 0.3529 | acc@train: 0.8438\n",
      "[0:2560] loss: 0.3529 | acc@train: 0.8438\n",
      "[0:2570] loss: 0.3527 | acc@train: 0.8439\n",
      "[0:2580] loss: 0.3528 | acc@train: 0.8438\n",
      "[0:2590] loss: 0.3528 | acc@train: 0.8438\n",
      "[0:2600] loss: 0.3527 | acc@train: 0.8438\n",
      "[0:2610] loss: 0.3527 | acc@train: 0.8438\n",
      "[0:2620] loss: 0.3526 | acc@train: 0.8438\n",
      "[0:2630] loss: 0.3526 | acc@train: 0.8438\n",
      "[0:2640] loss: 0.3526 | acc@train: 0.8437\n",
      "[0:2650] loss: 0.3524 | acc@train: 0.8439\n",
      "[0:2660] loss: 0.3522 | acc@train: 0.8439\n",
      "[0:2670] loss: 0.3521 | acc@train: 0.8440\n",
      "[0:2680] loss: 0.3521 | acc@train: 0.8440\n",
      "[0:2690] loss: 0.3521 | acc@train: 0.8441\n",
      "[0:2700] loss: 0.3520 | acc@train: 0.8442\n",
      "[0:2710] loss: 0.3519 | acc@train: 0.8442\n",
      "[0:2720] loss: 0.3517 | acc@train: 0.8443\n",
      "[0:2730] loss: 0.3517 | acc@train: 0.8443\n",
      "[0:2740] loss: 0.3515 | acc@train: 0.8444\n",
      "[0:2750] loss: 0.3514 | acc@train: 0.8445\n",
      "[0:2760] loss: 0.3512 | acc@train: 0.8446\n",
      "[0:2770] loss: 0.3512 | acc@train: 0.8446\n",
      "[0:2780] loss: 0.3512 | acc@train: 0.8446\n",
      "[0:2790] loss: 0.3511 | acc@train: 0.8446\n",
      "[0:2800] loss: 0.3510 | acc@train: 0.8446\n",
      "[0:2810] loss: 0.3509 | acc@train: 0.8447\n",
      "[0:2820] loss: 0.3510 | acc@train: 0.8446\n",
      "[0:2830] loss: 0.3509 | acc@train: 0.8447\n",
      "[0:2840] loss: 0.3507 | acc@train: 0.8447\n",
      "[0:2850] loss: 0.3507 | acc@train: 0.8448\n",
      "[0:2860] loss: 0.3506 | acc@train: 0.8450\n",
      "[0:2870] loss: 0.3504 | acc@train: 0.8451\n",
      "[0:2880] loss: 0.3502 | acc@train: 0.8452\n",
      "[0:2890] loss: 0.3500 | acc@train: 0.8453\n",
      "[0:2900] loss: 0.3499 | acc@train: 0.8454\n",
      "[0:2910] loss: 0.3498 | acc@train: 0.8454\n",
      "[0:2920] loss: 0.3498 | acc@train: 0.8455\n",
      "[0:2930] loss: 0.3497 | acc@train: 0.8454\n",
      "[0:2940] loss: 0.3497 | acc@train: 0.8455\n",
      "[0:2950] loss: 0.3496 | acc@train: 0.8456\n",
      "[0:2960] loss: 0.3495 | acc@train: 0.8456\n",
      "[0:2970] loss: 0.3494 | acc@train: 0.8457\n",
      "[0:2980] loss: 0.3493 | acc@train: 0.8457\n",
      "[0:2990] loss: 0.3492 | acc@train: 0.8458\n",
      "\n",
      "[0] acc@test: 0.8664\n",
      "\n",
      "[1:0] loss: 0.3307 | acc@train: 0.8500\n",
      "[1:10] loss: 0.3042 | acc@train: 0.8682\n",
      "[1:20] loss: 0.2938 | acc@train: 0.8730\n",
      "[1:30] loss: 0.2893 | acc@train: 0.8780\n",
      "[1:40] loss: 0.2814 | acc@train: 0.8821\n",
      "[1:50] loss: 0.2939 | acc@train: 0.8748\n",
      "[1:60] loss: 0.2959 | acc@train: 0.8735\n",
      "[1:70] loss: 0.3008 | acc@train: 0.8725\n",
      "[1:80] loss: 0.2991 | acc@train: 0.8737\n",
      "[1:90] loss: 0.2989 | acc@train: 0.8744\n",
      "[1:100] loss: 0.2976 | acc@train: 0.8744\n",
      "[1:110] loss: 0.2945 | acc@train: 0.8751\n",
      "[1:120] loss: 0.2920 | acc@train: 0.8771\n",
      "[1:130] loss: 0.2931 | acc@train: 0.8763\n",
      "[1:140] loss: 0.2944 | acc@train: 0.8754\n",
      "[1:150] loss: 0.2931 | acc@train: 0.8766\n",
      "[1:160] loss: 0.2948 | acc@train: 0.8758\n",
      "[1:170] loss: 0.2949 | acc@train: 0.8761\n",
      "[1:180] loss: 0.2960 | acc@train: 0.8758\n",
      "[1:190] loss: 0.2957 | acc@train: 0.8762\n",
      "[1:200] loss: 0.2944 | acc@train: 0.8765\n",
      "[1:210] loss: 0.2960 | acc@train: 0.8762\n",
      "[1:220] loss: 0.2964 | acc@train: 0.8756\n",
      "[1:230] loss: 0.2980 | acc@train: 0.8749\n",
      "[1:240] loss: 0.2988 | acc@train: 0.8745\n",
      "[1:250] loss: 0.2979 | acc@train: 0.8750\n",
      "[1:260] loss: 0.2960 | acc@train: 0.8758\n",
      "[1:270] loss: 0.2949 | acc@train: 0.8769\n",
      "[1:280] loss: 0.2945 | acc@train: 0.8776\n",
      "[1:290] loss: 0.2940 | acc@train: 0.8779\n",
      "[1:300] loss: 0.2948 | acc@train: 0.8770\n",
      "[1:310] loss: 0.2942 | acc@train: 0.8774\n",
      "[1:320] loss: 0.2944 | acc@train: 0.8775\n",
      "[1:330] loss: 0.2949 | acc@train: 0.8772\n",
      "[1:340] loss: 0.2951 | acc@train: 0.8771\n",
      "[1:350] loss: 0.2950 | acc@train: 0.8768\n",
      "[1:360] loss: 0.2946 | acc@train: 0.8768\n",
      "[1:370] loss: 0.2950 | acc@train: 0.8765\n",
      "[1:380] loss: 0.2943 | acc@train: 0.8766\n",
      "[1:390] loss: 0.2951 | acc@train: 0.8762\n",
      "[1:400] loss: 0.2950 | acc@train: 0.8761\n",
      "[1:410] loss: 0.2947 | acc@train: 0.8763\n",
      "[1:420] loss: 0.2946 | acc@train: 0.8760\n",
      "[1:430] loss: 0.2939 | acc@train: 0.8763\n",
      "[1:440] loss: 0.2945 | acc@train: 0.8759\n",
      "[1:450] loss: 0.2947 | acc@train: 0.8759\n",
      "[1:460] loss: 0.2949 | acc@train: 0.8758\n",
      "[1:470] loss: 0.2955 | acc@train: 0.8755\n",
      "[1:480] loss: 0.2957 | acc@train: 0.8756\n",
      "[1:490] loss: 0.2966 | acc@train: 0.8754\n",
      "[1:500] loss: 0.2967 | acc@train: 0.8751\n",
      "[1:510] loss: 0.2972 | acc@train: 0.8751\n",
      "[1:520] loss: 0.2970 | acc@train: 0.8752\n",
      "[1:530] loss: 0.2971 | acc@train: 0.8751\n",
      "[1:540] loss: 0.2970 | acc@train: 0.8752\n",
      "[1:550] loss: 0.2956 | acc@train: 0.8758\n",
      "[1:560] loss: 0.2956 | acc@train: 0.8759\n",
      "[1:570] loss: 0.2955 | acc@train: 0.8759\n",
      "[1:580] loss: 0.2958 | acc@train: 0.8757\n",
      "[1:590] loss: 0.2967 | acc@train: 0.8752\n",
      "[1:600] loss: 0.2969 | acc@train: 0.8751\n",
      "[1:610] loss: 0.2970 | acc@train: 0.8748\n",
      "[1:620] loss: 0.2978 | acc@train: 0.8747\n",
      "[1:630] loss: 0.2980 | acc@train: 0.8746\n",
      "[1:640] loss: 0.2979 | acc@train: 0.8744\n",
      "[1:650] loss: 0.2981 | acc@train: 0.8741\n",
      "[1:660] loss: 0.2987 | acc@train: 0.8738\n",
      "[1:670] loss: 0.2991 | acc@train: 0.8736\n",
      "[1:680] loss: 0.2988 | acc@train: 0.8737\n",
      "[1:690] loss: 0.2991 | acc@train: 0.8735\n",
      "[1:700] loss: 0.2991 | acc@train: 0.8737\n",
      "[1:710] loss: 0.2987 | acc@train: 0.8739\n",
      "[1:720] loss: 0.2994 | acc@train: 0.8733\n",
      "[1:730] loss: 0.2994 | acc@train: 0.8732\n",
      "[1:740] loss: 0.2998 | acc@train: 0.8729\n",
      "[1:750] loss: 0.2998 | acc@train: 0.8727\n",
      "[1:760] loss: 0.3002 | acc@train: 0.8725\n",
      "[1:770] loss: 0.3002 | acc@train: 0.8725\n",
      "[1:780] loss: 0.3000 | acc@train: 0.8725\n",
      "[1:790] loss: 0.3000 | acc@train: 0.8725\n",
      "[1:800] loss: 0.2999 | acc@train: 0.8726\n",
      "[1:810] loss: 0.2995 | acc@train: 0.8728\n",
      "[1:820] loss: 0.2997 | acc@train: 0.8725\n",
      "[1:830] loss: 0.2993 | acc@train: 0.8727\n",
      "[1:840] loss: 0.2989 | acc@train: 0.8728\n",
      "[1:850] loss: 0.2993 | acc@train: 0.8725\n",
      "[1:860] loss: 0.2990 | acc@train: 0.8727\n",
      "[1:870] loss: 0.2987 | acc@train: 0.8730\n",
      "[1:880] loss: 0.2989 | acc@train: 0.8732\n",
      "[1:890] loss: 0.2989 | acc@train: 0.8731\n",
      "[1:900] loss: 0.2990 | acc@train: 0.8731\n",
      "[1:910] loss: 0.2993 | acc@train: 0.8729\n",
      "[1:920] loss: 0.2989 | acc@train: 0.8732\n",
      "[1:930] loss: 0.2990 | acc@train: 0.8733\n",
      "[1:940] loss: 0.2990 | acc@train: 0.8732\n",
      "[1:950] loss: 0.2993 | acc@train: 0.8730\n",
      "[1:960] loss: 0.2994 | acc@train: 0.8730\n",
      "[1:970] loss: 0.2993 | acc@train: 0.8731\n",
      "[1:980] loss: 0.2990 | acc@train: 0.8731\n",
      "[1:990] loss: 0.2994 | acc@train: 0.8730\n",
      "[1:1000] loss: 0.2992 | acc@train: 0.8731\n",
      "[1:1010] loss: 0.2989 | acc@train: 0.8733\n",
      "[1:1020] loss: 0.2992 | acc@train: 0.8731\n",
      "[1:1030] loss: 0.2995 | acc@train: 0.8730\n",
      "[1:1040] loss: 0.2997 | acc@train: 0.8729\n",
      "[1:1050] loss: 0.2997 | acc@train: 0.8730\n",
      "[1:1060] loss: 0.2999 | acc@train: 0.8730\n",
      "[1:1070] loss: 0.2999 | acc@train: 0.8731\n",
      "[1:1080] loss: 0.2997 | acc@train: 0.8731\n",
      "[1:1090] loss: 0.2999 | acc@train: 0.8730\n",
      "[1:1100] loss: 0.3000 | acc@train: 0.8730\n",
      "[1:1110] loss: 0.2998 | acc@train: 0.8731\n",
      "[1:1120] loss: 0.2998 | acc@train: 0.8731\n",
      "[1:1130] loss: 0.2997 | acc@train: 0.8733\n",
      "[1:1140] loss: 0.3001 | acc@train: 0.8731\n",
      "[1:1150] loss: 0.3002 | acc@train: 0.8730\n",
      "[1:1160] loss: 0.3002 | acc@train: 0.8731\n",
      "[1:1170] loss: 0.3002 | acc@train: 0.8730\n",
      "[1:1180] loss: 0.3002 | acc@train: 0.8730\n",
      "[1:1190] loss: 0.3002 | acc@train: 0.8729\n",
      "[1:1200] loss: 0.2998 | acc@train: 0.8731\n",
      "[1:1210] loss: 0.2998 | acc@train: 0.8731\n",
      "[1:1220] loss: 0.2996 | acc@train: 0.8732\n",
      "[1:1230] loss: 0.2992 | acc@train: 0.8735\n",
      "[1:1240] loss: 0.2992 | acc@train: 0.8735\n",
      "[1:1250] loss: 0.2994 | acc@train: 0.8732\n",
      "[1:1260] loss: 0.2995 | acc@train: 0.8733\n",
      "[1:1270] loss: 0.2994 | acc@train: 0.8734\n",
      "[1:1280] loss: 0.2994 | acc@train: 0.8735\n",
      "[1:1290] loss: 0.2995 | acc@train: 0.8735\n",
      "[1:1300] loss: 0.2992 | acc@train: 0.8738\n",
      "[1:1310] loss: 0.2991 | acc@train: 0.8738\n",
      "[1:1320] loss: 0.2995 | acc@train: 0.8738\n",
      "[1:1330] loss: 0.2993 | acc@train: 0.8740\n",
      "[1:1340] loss: 0.2994 | acc@train: 0.8739\n",
      "[1:1350] loss: 0.2992 | acc@train: 0.8740\n",
      "[1:1360] loss: 0.2991 | acc@train: 0.8741\n",
      "[1:1370] loss: 0.2991 | acc@train: 0.8741\n",
      "[1:1380] loss: 0.2989 | acc@train: 0.8742\n",
      "[1:1390] loss: 0.2988 | acc@train: 0.8743\n",
      "[1:1400] loss: 0.2990 | acc@train: 0.8742\n",
      "[1:1410] loss: 0.2989 | acc@train: 0.8741\n",
      "[1:1420] loss: 0.2988 | acc@train: 0.8740\n",
      "[1:1430] loss: 0.2988 | acc@train: 0.8739\n",
      "[1:1440] loss: 0.2988 | acc@train: 0.8739\n",
      "[1:1450] loss: 0.2986 | acc@train: 0.8741\n",
      "[1:1460] loss: 0.2984 | acc@train: 0.8741\n",
      "[1:1470] loss: 0.2989 | acc@train: 0.8739\n",
      "[1:1480] loss: 0.2989 | acc@train: 0.8739\n",
      "[1:1490] loss: 0.2990 | acc@train: 0.8738\n",
      "[1:1500] loss: 0.2993 | acc@train: 0.8737\n",
      "[1:1510] loss: 0.2993 | acc@train: 0.8736\n",
      "[1:1520] loss: 0.2991 | acc@train: 0.8737\n",
      "[1:1530] loss: 0.2991 | acc@train: 0.8738\n",
      "[1:1540] loss: 0.2990 | acc@train: 0.8739\n",
      "[1:1550] loss: 0.2989 | acc@train: 0.8739\n",
      "[1:1560] loss: 0.2989 | acc@train: 0.8739\n",
      "[1:1570] loss: 0.2989 | acc@train: 0.8740\n",
      "[1:1580] loss: 0.2990 | acc@train: 0.8738\n",
      "[1:1590] loss: 0.2989 | acc@train: 0.8739\n",
      "[1:1600] loss: 0.2990 | acc@train: 0.8738\n",
      "[1:1610] loss: 0.2991 | acc@train: 0.8737\n",
      "[1:1620] loss: 0.2990 | acc@train: 0.8737\n",
      "[1:1630] loss: 0.2989 | acc@train: 0.8738\n",
      "[1:1640] loss: 0.2989 | acc@train: 0.8739\n",
      "[1:1650] loss: 0.2989 | acc@train: 0.8739\n",
      "[1:1660] loss: 0.2991 | acc@train: 0.8738\n",
      "[1:1670] loss: 0.2993 | acc@train: 0.8736\n",
      "[1:1680] loss: 0.2992 | acc@train: 0.8737\n",
      "[1:1690] loss: 0.2992 | acc@train: 0.8736\n",
      "[1:1700] loss: 0.2995 | acc@train: 0.8735\n",
      "[1:1710] loss: 0.2996 | acc@train: 0.8735\n",
      "[1:1720] loss: 0.2995 | acc@train: 0.8736\n",
      "[1:1730] loss: 0.2993 | acc@train: 0.8736\n",
      "[1:1740] loss: 0.2993 | acc@train: 0.8736\n",
      "[1:1750] loss: 0.2993 | acc@train: 0.8737\n",
      "[1:1760] loss: 0.2993 | acc@train: 0.8737\n",
      "[1:1770] loss: 0.2995 | acc@train: 0.8735\n",
      "[1:1780] loss: 0.2996 | acc@train: 0.8735\n",
      "[1:1790] loss: 0.2997 | acc@train: 0.8734\n",
      "[1:1800] loss: 0.3000 | acc@train: 0.8732\n",
      "[1:1810] loss: 0.3000 | acc@train: 0.8732\n",
      "[1:1820] loss: 0.2999 | acc@train: 0.8732\n",
      "[1:1830] loss: 0.2997 | acc@train: 0.8733\n",
      "[1:1840] loss: 0.2997 | acc@train: 0.8733\n",
      "[1:1850] loss: 0.2999 | acc@train: 0.8731\n",
      "[1:1860] loss: 0.3000 | acc@train: 0.8731\n",
      "[1:1870] loss: 0.3001 | acc@train: 0.8731\n",
      "[1:1880] loss: 0.3001 | acc@train: 0.8730\n",
      "[1:1890] loss: 0.3000 | acc@train: 0.8731\n",
      "[1:1900] loss: 0.3001 | acc@train: 0.8730\n",
      "[1:1910] loss: 0.3003 | acc@train: 0.8729\n",
      "[1:1920] loss: 0.3003 | acc@train: 0.8729\n",
      "[1:1930] loss: 0.3002 | acc@train: 0.8729\n",
      "[1:1940] loss: 0.3004 | acc@train: 0.8729\n",
      "[1:1950] loss: 0.3005 | acc@train: 0.8728\n",
      "[1:1960] loss: 0.3006 | acc@train: 0.8728\n",
      "[1:1970] loss: 0.3006 | acc@train: 0.8728\n",
      "[1:1980] loss: 0.3008 | acc@train: 0.8727\n",
      "[1:1990] loss: 0.3007 | acc@train: 0.8727\n",
      "[1:2000] loss: 0.3009 | acc@train: 0.8726\n",
      "[1:2010] loss: 0.3008 | acc@train: 0.8727\n",
      "[1:2020] loss: 0.3009 | acc@train: 0.8727\n",
      "[1:2030] loss: 0.3007 | acc@train: 0.8728\n",
      "[1:2040] loss: 0.3006 | acc@train: 0.8728\n",
      "[1:2050] loss: 0.3007 | acc@train: 0.8728\n",
      "[1:2060] loss: 0.3009 | acc@train: 0.8728\n",
      "[1:2070] loss: 0.3007 | acc@train: 0.8728\n",
      "[1:2080] loss: 0.3005 | acc@train: 0.8729\n",
      "[1:2090] loss: 0.3004 | acc@train: 0.8729\n",
      "[1:2100] loss: 0.3004 | acc@train: 0.8729\n",
      "[1:2110] loss: 0.3005 | acc@train: 0.8728\n",
      "[1:2120] loss: 0.3007 | acc@train: 0.8728\n",
      "[1:2130] loss: 0.3007 | acc@train: 0.8728\n",
      "[1:2140] loss: 0.3008 | acc@train: 0.8728\n",
      "[1:2150] loss: 0.3006 | acc@train: 0.8728\n",
      "[1:2160] loss: 0.3006 | acc@train: 0.8728\n",
      "[1:2170] loss: 0.3008 | acc@train: 0.8728\n",
      "[1:2180] loss: 0.3008 | acc@train: 0.8728\n",
      "[1:2190] loss: 0.3008 | acc@train: 0.8727\n",
      "[1:2200] loss: 0.3007 | acc@train: 0.8728\n",
      "[1:2210] loss: 0.3007 | acc@train: 0.8727\n",
      "[1:2220] loss: 0.3008 | acc@train: 0.8727\n",
      "[1:2230] loss: 0.3006 | acc@train: 0.8728\n",
      "[1:2240] loss: 0.3008 | acc@train: 0.8727\n",
      "[1:2250] loss: 0.3008 | acc@train: 0.8726\n",
      "[1:2260] loss: 0.3008 | acc@train: 0.8726\n",
      "[1:2270] loss: 0.3007 | acc@train: 0.8726\n",
      "[1:2280] loss: 0.3008 | acc@train: 0.8725\n",
      "[1:2290] loss: 0.3008 | acc@train: 0.8725\n",
      "[1:2300] loss: 0.3008 | acc@train: 0.8725\n",
      "[1:2310] loss: 0.3008 | acc@train: 0.8725\n",
      "[1:2320] loss: 0.3006 | acc@train: 0.8725\n",
      "[1:2330] loss: 0.3006 | acc@train: 0.8725\n",
      "[1:2340] loss: 0.3007 | acc@train: 0.8725\n",
      "[1:2350] loss: 0.3007 | acc@train: 0.8724\n",
      "[1:2360] loss: 0.3009 | acc@train: 0.8723\n",
      "[1:2370] loss: 0.3008 | acc@train: 0.8724\n",
      "[1:2380] loss: 0.3008 | acc@train: 0.8724\n",
      "[1:2390] loss: 0.3008 | acc@train: 0.8724\n",
      "[1:2400] loss: 0.3006 | acc@train: 0.8725\n",
      "[1:2410] loss: 0.3006 | acc@train: 0.8725\n",
      "[1:2420] loss: 0.3007 | acc@train: 0.8725\n",
      "[1:2430] loss: 0.3006 | acc@train: 0.8725\n",
      "[1:2440] loss: 0.3006 | acc@train: 0.8724\n",
      "[1:2450] loss: 0.3006 | acc@train: 0.8724\n",
      "[1:2460] loss: 0.3006 | acc@train: 0.8724\n",
      "[1:2470] loss: 0.3006 | acc@train: 0.8724\n",
      "[1:2480] loss: 0.3005 | acc@train: 0.8724\n",
      "[1:2490] loss: 0.3003 | acc@train: 0.8725\n",
      "[1:2500] loss: 0.3001 | acc@train: 0.8726\n",
      "[1:2510] loss: 0.2999 | acc@train: 0.8727\n",
      "[1:2520] loss: 0.3001 | acc@train: 0.8727\n",
      "[1:2530] loss: 0.2999 | acc@train: 0.8727\n",
      "[1:2540] loss: 0.2999 | acc@train: 0.8727\n",
      "[1:2550] loss: 0.2999 | acc@train: 0.8726\n",
      "[1:2560] loss: 0.2999 | acc@train: 0.8726\n",
      "[1:2570] loss: 0.2999 | acc@train: 0.8726\n",
      "[1:2580] loss: 0.3000 | acc@train: 0.8726\n",
      "[1:2590] loss: 0.2999 | acc@train: 0.8726\n",
      "[1:2600] loss: 0.2999 | acc@train: 0.8727\n",
      "[1:2610] loss: 0.2997 | acc@train: 0.8728\n",
      "[1:2620] loss: 0.2998 | acc@train: 0.8728\n",
      "[1:2630] loss: 0.2997 | acc@train: 0.8729\n",
      "[1:2640] loss: 0.2997 | acc@train: 0.8729\n",
      "[1:2650] loss: 0.2996 | acc@train: 0.8729\n",
      "[1:2660] loss: 0.2996 | acc@train: 0.8729\n",
      "[1:2670] loss: 0.2995 | acc@train: 0.8730\n",
      "[1:2680] loss: 0.2996 | acc@train: 0.8730\n",
      "[1:2690] loss: 0.2997 | acc@train: 0.8730\n",
      "[1:2700] loss: 0.2997 | acc@train: 0.8729\n",
      "[1:2710] loss: 0.2997 | acc@train: 0.8730\n",
      "[1:2720] loss: 0.2997 | acc@train: 0.8730\n",
      "[1:2730] loss: 0.2997 | acc@train: 0.8730\n",
      "[1:2740] loss: 0.2998 | acc@train: 0.8729\n",
      "[1:2750] loss: 0.2997 | acc@train: 0.8729\n",
      "[1:2760] loss: 0.2997 | acc@train: 0.8729\n",
      "[1:2770] loss: 0.2998 | acc@train: 0.8729\n",
      "[1:2780] loss: 0.2997 | acc@train: 0.8729\n",
      "[1:2790] loss: 0.2996 | acc@train: 0.8729\n",
      "[1:2800] loss: 0.2995 | acc@train: 0.8731\n",
      "[1:2810] loss: 0.2996 | acc@train: 0.8730\n",
      "[1:2820] loss: 0.2995 | acc@train: 0.8730\n",
      "[1:2830] loss: 0.2996 | acc@train: 0.8730\n",
      "[1:2840] loss: 0.2996 | acc@train: 0.8729\n",
      "[1:2850] loss: 0.2998 | acc@train: 0.8728\n",
      "[1:2860] loss: 0.2997 | acc@train: 0.8729\n",
      "[1:2870] loss: 0.2997 | acc@train: 0.8728\n",
      "[1:2880] loss: 0.2998 | acc@train: 0.8728\n",
      "[1:2890] loss: 0.2999 | acc@train: 0.8728\n",
      "[1:2900] loss: 0.2999 | acc@train: 0.8727\n",
      "[1:2910] loss: 0.2998 | acc@train: 0.8728\n",
      "[1:2920] loss: 0.2999 | acc@train: 0.8728\n",
      "[1:2930] loss: 0.2999 | acc@train: 0.8727\n",
      "[1:2940] loss: 0.2999 | acc@train: 0.8727\n",
      "[1:2950] loss: 0.3000 | acc@train: 0.8727\n",
      "[1:2960] loss: 0.2999 | acc@train: 0.8727\n",
      "[1:2970] loss: 0.2999 | acc@train: 0.8727\n",
      "[1:2980] loss: 0.3000 | acc@train: 0.8726\n",
      "[1:2990] loss: 0.3001 | acc@train: 0.8726\n",
      "\n",
      "[1] acc@test: 0.8656\n",
      "\n"
     ]
    }
   ],
   "source": [
    "for ep in range(EPOCH):\n",
    "    loss = 0\n",
    "    preds, trues = [], []\n",
    "    model.train()\n",
    "    for i, (x,y) in enumerate(trainingDataloader):\n",
    "        outputs = model(input_ids = x[:,:ML].to(DEVICE), attention_mask = x[:,ML:].to(DEVICE), labels = y.to(DEVICE))\n",
    "        l = outputs.loss\n",
    "        l.backward()\n",
    "        optimizer.step()\n",
    "        optimizer.zero_grad()\n",
    "        loss += l.data.cpu().numpy()\n",
    "        logits = outputs.logits\n",
    "        probs = logits.softmax(dim=-1).data.cpu()\n",
    "        _, pred = torch.max(probs, 1)\n",
    "        preds.extend(pred.numpy().tolist())\n",
    "        trues.extend(y.data.cpu().numpy().tolist())\n",
    "        if i % 10 == 0:\n",
    "            train_acc = accuracy_score(trues, preds)\n",
    "            print(f\"[{ep}:{i}] loss: {loss/(i+1):.4f} | acc@train: {train_acc:.4f}\")\n",
    "    \n",
    "    model.eval()\n",
    "    with torch.no_grad():\n",
    "        preds, trues = [], []\n",
    "        for i, (x, y) in enumerate(testDataloader):\n",
    "            outputs = model(input_ids=x[:,:ML].to(DEVICE), attention_mask=x[:,ML:].to(DEVICE), labels=y.to(DEVICE))\n",
    "            logits = outputs.logits\n",
    "            probs = logits.softmax(dim=-1).data.cpu()\n",
    "            _, pred = torch.max(probs, 1)\n",
    "            preds.extend(pred.numpy().tolist())\n",
    "            trues.extend(y.data.cpu().numpy().tolist())\n",
    "        test_acc = accuracy_score(trues,preds)\n",
    "        print(f\"\\n[{ep}] acc@test: {test_acc:.4f}\\n\")\n",
    "        torch.save(model.state_dict(), \"model.pkl\")\n",
    "    torch.cuda.empty_cache()"
   ]
  },
  {
   "cell_type": "markdown",
   "metadata": {},
   "source": [
    "Start predict"
   ]
  },
  {
   "cell_type": "code",
   "execution_count": 4,
   "metadata": {},
   "outputs": [
    {
     "name": "stdout",
     "output_type": "stream",
     "text": [
      "eval size: 74999.\n"
     ]
    }
   ],
   "source": [
    "with open(\"eval_data\",\"rb\") as f:\n",
    "    data = pkl.load(f)\n",
    "tkids, atts = data[\"tkids\"], data[\"atts\"]\n",
    "print(f\"eval size: {len(tkids)}.\")"
   ]
  },
  {
   "cell_type": "code",
   "execution_count": 9,
   "metadata": {},
   "outputs": [
    {
     "name": "stderr",
     "output_type": "stream",
     "text": [
      "Some weights of the model checkpoint at roberta-base were not used when initializing RobertaForSequenceClassification: ['lm_head.decoder.weight', 'lm_head.dense.weight', 'lm_head.layer_norm.weight', 'lm_head.layer_norm.bias', 'roberta.pooler.dense.bias', 'lm_head.bias', 'lm_head.dense.bias', 'roberta.pooler.dense.weight']\n",
      "- This IS expected if you are initializing RobertaForSequenceClassification from the checkpoint of a model trained on another task or with another architecture (e.g. initializing a BertForSequenceClassification model from a BertForPreTraining model).\n",
      "- This IS NOT expected if you are initializing RobertaForSequenceClassification from the checkpoint of a model that you expect to be exactly identical (initializing a BertForSequenceClassification model from a BertForSequenceClassification model).\n",
      "Some weights of RobertaForSequenceClassification were not initialized from the model checkpoint at roberta-base and are newly initialized: ['classifier.out_proj.weight', 'classifier.out_proj.bias', 'classifier.dense.bias', 'classifier.dense.weight']\n",
      "You should probably TRAIN this model on a down-stream task to be able to use it for predictions and inference.\n"
     ]
    },
    {
     "data": {
      "text/plain": [
       "RobertaForSequenceClassification(\n",
       "  (roberta): RobertaModel(\n",
       "    (embeddings): RobertaEmbeddings(\n",
       "      (word_embeddings): Embedding(50265, 768, padding_idx=1)\n",
       "      (position_embeddings): Embedding(514, 768, padding_idx=1)\n",
       "      (token_type_embeddings): Embedding(1, 768)\n",
       "      (LayerNorm): LayerNorm((768,), eps=1e-05, elementwise_affine=True)\n",
       "      (dropout): Dropout(p=0.1, inplace=False)\n",
       "    )\n",
       "    (encoder): RobertaEncoder(\n",
       "      (layer): ModuleList(\n",
       "        (0): RobertaLayer(\n",
       "          (attention): RobertaAttention(\n",
       "            (self): RobertaSelfAttention(\n",
       "              (query): Linear(in_features=768, out_features=768, bias=True)\n",
       "              (key): Linear(in_features=768, out_features=768, bias=True)\n",
       "              (value): Linear(in_features=768, out_features=768, bias=True)\n",
       "              (dropout): Dropout(p=0.1, inplace=False)\n",
       "            )\n",
       "            (output): RobertaSelfOutput(\n",
       "              (dense): Linear(in_features=768, out_features=768, bias=True)\n",
       "              (LayerNorm): LayerNorm((768,), eps=1e-05, elementwise_affine=True)\n",
       "              (dropout): Dropout(p=0.1, inplace=False)\n",
       "            )\n",
       "          )\n",
       "          (intermediate): RobertaIntermediate(\n",
       "            (dense): Linear(in_features=768, out_features=3072, bias=True)\n",
       "          )\n",
       "          (output): RobertaOutput(\n",
       "            (dense): Linear(in_features=3072, out_features=768, bias=True)\n",
       "            (LayerNorm): LayerNorm((768,), eps=1e-05, elementwise_affine=True)\n",
       "            (dropout): Dropout(p=0.1, inplace=False)\n",
       "          )\n",
       "        )\n",
       "        (1): RobertaLayer(\n",
       "          (attention): RobertaAttention(\n",
       "            (self): RobertaSelfAttention(\n",
       "              (query): Linear(in_features=768, out_features=768, bias=True)\n",
       "              (key): Linear(in_features=768, out_features=768, bias=True)\n",
       "              (value): Linear(in_features=768, out_features=768, bias=True)\n",
       "              (dropout): Dropout(p=0.1, inplace=False)\n",
       "            )\n",
       "            (output): RobertaSelfOutput(\n",
       "              (dense): Linear(in_features=768, out_features=768, bias=True)\n",
       "              (LayerNorm): LayerNorm((768,), eps=1e-05, elementwise_affine=True)\n",
       "              (dropout): Dropout(p=0.1, inplace=False)\n",
       "            )\n",
       "          )\n",
       "          (intermediate): RobertaIntermediate(\n",
       "            (dense): Linear(in_features=768, out_features=3072, bias=True)\n",
       "          )\n",
       "          (output): RobertaOutput(\n",
       "            (dense): Linear(in_features=3072, out_features=768, bias=True)\n",
       "            (LayerNorm): LayerNorm((768,), eps=1e-05, elementwise_affine=True)\n",
       "            (dropout): Dropout(p=0.1, inplace=False)\n",
       "          )\n",
       "        )\n",
       "        (2): RobertaLayer(\n",
       "          (attention): RobertaAttention(\n",
       "            (self): RobertaSelfAttention(\n",
       "              (query): Linear(in_features=768, out_features=768, bias=True)\n",
       "              (key): Linear(in_features=768, out_features=768, bias=True)\n",
       "              (value): Linear(in_features=768, out_features=768, bias=True)\n",
       "              (dropout): Dropout(p=0.1, inplace=False)\n",
       "            )\n",
       "            (output): RobertaSelfOutput(\n",
       "              (dense): Linear(in_features=768, out_features=768, bias=True)\n",
       "              (LayerNorm): LayerNorm((768,), eps=1e-05, elementwise_affine=True)\n",
       "              (dropout): Dropout(p=0.1, inplace=False)\n",
       "            )\n",
       "          )\n",
       "          (intermediate): RobertaIntermediate(\n",
       "            (dense): Linear(in_features=768, out_features=3072, bias=True)\n",
       "          )\n",
       "          (output): RobertaOutput(\n",
       "            (dense): Linear(in_features=3072, out_features=768, bias=True)\n",
       "            (LayerNorm): LayerNorm((768,), eps=1e-05, elementwise_affine=True)\n",
       "            (dropout): Dropout(p=0.1, inplace=False)\n",
       "          )\n",
       "        )\n",
       "        (3): RobertaLayer(\n",
       "          (attention): RobertaAttention(\n",
       "            (self): RobertaSelfAttention(\n",
       "              (query): Linear(in_features=768, out_features=768, bias=True)\n",
       "              (key): Linear(in_features=768, out_features=768, bias=True)\n",
       "              (value): Linear(in_features=768, out_features=768, bias=True)\n",
       "              (dropout): Dropout(p=0.1, inplace=False)\n",
       "            )\n",
       "            (output): RobertaSelfOutput(\n",
       "              (dense): Linear(in_features=768, out_features=768, bias=True)\n",
       "              (LayerNorm): LayerNorm((768,), eps=1e-05, elementwise_affine=True)\n",
       "              (dropout): Dropout(p=0.1, inplace=False)\n",
       "            )\n",
       "          )\n",
       "          (intermediate): RobertaIntermediate(\n",
       "            (dense): Linear(in_features=768, out_features=3072, bias=True)\n",
       "          )\n",
       "          (output): RobertaOutput(\n",
       "            (dense): Linear(in_features=3072, out_features=768, bias=True)\n",
       "            (LayerNorm): LayerNorm((768,), eps=1e-05, elementwise_affine=True)\n",
       "            (dropout): Dropout(p=0.1, inplace=False)\n",
       "          )\n",
       "        )\n",
       "        (4): RobertaLayer(\n",
       "          (attention): RobertaAttention(\n",
       "            (self): RobertaSelfAttention(\n",
       "              (query): Linear(in_features=768, out_features=768, bias=True)\n",
       "              (key): Linear(in_features=768, out_features=768, bias=True)\n",
       "              (value): Linear(in_features=768, out_features=768, bias=True)\n",
       "              (dropout): Dropout(p=0.1, inplace=False)\n",
       "            )\n",
       "            (output): RobertaSelfOutput(\n",
       "              (dense): Linear(in_features=768, out_features=768, bias=True)\n",
       "              (LayerNorm): LayerNorm((768,), eps=1e-05, elementwise_affine=True)\n",
       "              (dropout): Dropout(p=0.1, inplace=False)\n",
       "            )\n",
       "          )\n",
       "          (intermediate): RobertaIntermediate(\n",
       "            (dense): Linear(in_features=768, out_features=3072, bias=True)\n",
       "          )\n",
       "          (output): RobertaOutput(\n",
       "            (dense): Linear(in_features=3072, out_features=768, bias=True)\n",
       "            (LayerNorm): LayerNorm((768,), eps=1e-05, elementwise_affine=True)\n",
       "            (dropout): Dropout(p=0.1, inplace=False)\n",
       "          )\n",
       "        )\n",
       "        (5): RobertaLayer(\n",
       "          (attention): RobertaAttention(\n",
       "            (self): RobertaSelfAttention(\n",
       "              (query): Linear(in_features=768, out_features=768, bias=True)\n",
       "              (key): Linear(in_features=768, out_features=768, bias=True)\n",
       "              (value): Linear(in_features=768, out_features=768, bias=True)\n",
       "              (dropout): Dropout(p=0.1, inplace=False)\n",
       "            )\n",
       "            (output): RobertaSelfOutput(\n",
       "              (dense): Linear(in_features=768, out_features=768, bias=True)\n",
       "              (LayerNorm): LayerNorm((768,), eps=1e-05, elementwise_affine=True)\n",
       "              (dropout): Dropout(p=0.1, inplace=False)\n",
       "            )\n",
       "          )\n",
       "          (intermediate): RobertaIntermediate(\n",
       "            (dense): Linear(in_features=768, out_features=3072, bias=True)\n",
       "          )\n",
       "          (output): RobertaOutput(\n",
       "            (dense): Linear(in_features=3072, out_features=768, bias=True)\n",
       "            (LayerNorm): LayerNorm((768,), eps=1e-05, elementwise_affine=True)\n",
       "            (dropout): Dropout(p=0.1, inplace=False)\n",
       "          )\n",
       "        )\n",
       "        (6): RobertaLayer(\n",
       "          (attention): RobertaAttention(\n",
       "            (self): RobertaSelfAttention(\n",
       "              (query): Linear(in_features=768, out_features=768, bias=True)\n",
       "              (key): Linear(in_features=768, out_features=768, bias=True)\n",
       "              (value): Linear(in_features=768, out_features=768, bias=True)\n",
       "              (dropout): Dropout(p=0.1, inplace=False)\n",
       "            )\n",
       "            (output): RobertaSelfOutput(\n",
       "              (dense): Linear(in_features=768, out_features=768, bias=True)\n",
       "              (LayerNorm): LayerNorm((768,), eps=1e-05, elementwise_affine=True)\n",
       "              (dropout): Dropout(p=0.1, inplace=False)\n",
       "            )\n",
       "          )\n",
       "          (intermediate): RobertaIntermediate(\n",
       "            (dense): Linear(in_features=768, out_features=3072, bias=True)\n",
       "          )\n",
       "          (output): RobertaOutput(\n",
       "            (dense): Linear(in_features=3072, out_features=768, bias=True)\n",
       "            (LayerNorm): LayerNorm((768,), eps=1e-05, elementwise_affine=True)\n",
       "            (dropout): Dropout(p=0.1, inplace=False)\n",
       "          )\n",
       "        )\n",
       "        (7): RobertaLayer(\n",
       "          (attention): RobertaAttention(\n",
       "            (self): RobertaSelfAttention(\n",
       "              (query): Linear(in_features=768, out_features=768, bias=True)\n",
       "              (key): Linear(in_features=768, out_features=768, bias=True)\n",
       "              (value): Linear(in_features=768, out_features=768, bias=True)\n",
       "              (dropout): Dropout(p=0.1, inplace=False)\n",
       "            )\n",
       "            (output): RobertaSelfOutput(\n",
       "              (dense): Linear(in_features=768, out_features=768, bias=True)\n",
       "              (LayerNorm): LayerNorm((768,), eps=1e-05, elementwise_affine=True)\n",
       "              (dropout): Dropout(p=0.1, inplace=False)\n",
       "            )\n",
       "          )\n",
       "          (intermediate): RobertaIntermediate(\n",
       "            (dense): Linear(in_features=768, out_features=3072, bias=True)\n",
       "          )\n",
       "          (output): RobertaOutput(\n",
       "            (dense): Linear(in_features=3072, out_features=768, bias=True)\n",
       "            (LayerNorm): LayerNorm((768,), eps=1e-05, elementwise_affine=True)\n",
       "            (dropout): Dropout(p=0.1, inplace=False)\n",
       "          )\n",
       "        )\n",
       "        (8): RobertaLayer(\n",
       "          (attention): RobertaAttention(\n",
       "            (self): RobertaSelfAttention(\n",
       "              (query): Linear(in_features=768, out_features=768, bias=True)\n",
       "              (key): Linear(in_features=768, out_features=768, bias=True)\n",
       "              (value): Linear(in_features=768, out_features=768, bias=True)\n",
       "              (dropout): Dropout(p=0.1, inplace=False)\n",
       "            )\n",
       "            (output): RobertaSelfOutput(\n",
       "              (dense): Linear(in_features=768, out_features=768, bias=True)\n",
       "              (LayerNorm): LayerNorm((768,), eps=1e-05, elementwise_affine=True)\n",
       "              (dropout): Dropout(p=0.1, inplace=False)\n",
       "            )\n",
       "          )\n",
       "          (intermediate): RobertaIntermediate(\n",
       "            (dense): Linear(in_features=768, out_features=3072, bias=True)\n",
       "          )\n",
       "          (output): RobertaOutput(\n",
       "            (dense): Linear(in_features=3072, out_features=768, bias=True)\n",
       "            (LayerNorm): LayerNorm((768,), eps=1e-05, elementwise_affine=True)\n",
       "            (dropout): Dropout(p=0.1, inplace=False)\n",
       "          )\n",
       "        )\n",
       "        (9): RobertaLayer(\n",
       "          (attention): RobertaAttention(\n",
       "            (self): RobertaSelfAttention(\n",
       "              (query): Linear(in_features=768, out_features=768, bias=True)\n",
       "              (key): Linear(in_features=768, out_features=768, bias=True)\n",
       "              (value): Linear(in_features=768, out_features=768, bias=True)\n",
       "              (dropout): Dropout(p=0.1, inplace=False)\n",
       "            )\n",
       "            (output): RobertaSelfOutput(\n",
       "              (dense): Linear(in_features=768, out_features=768, bias=True)\n",
       "              (LayerNorm): LayerNorm((768,), eps=1e-05, elementwise_affine=True)\n",
       "              (dropout): Dropout(p=0.1, inplace=False)\n",
       "            )\n",
       "          )\n",
       "          (intermediate): RobertaIntermediate(\n",
       "            (dense): Linear(in_features=768, out_features=3072, bias=True)\n",
       "          )\n",
       "          (output): RobertaOutput(\n",
       "            (dense): Linear(in_features=3072, out_features=768, bias=True)\n",
       "            (LayerNorm): LayerNorm((768,), eps=1e-05, elementwise_affine=True)\n",
       "            (dropout): Dropout(p=0.1, inplace=False)\n",
       "          )\n",
       "        )\n",
       "        (10): RobertaLayer(\n",
       "          (attention): RobertaAttention(\n",
       "            (self): RobertaSelfAttention(\n",
       "              (query): Linear(in_features=768, out_features=768, bias=True)\n",
       "              (key): Linear(in_features=768, out_features=768, bias=True)\n",
       "              (value): Linear(in_features=768, out_features=768, bias=True)\n",
       "              (dropout): Dropout(p=0.1, inplace=False)\n",
       "            )\n",
       "            (output): RobertaSelfOutput(\n",
       "              (dense): Linear(in_features=768, out_features=768, bias=True)\n",
       "              (LayerNorm): LayerNorm((768,), eps=1e-05, elementwise_affine=True)\n",
       "              (dropout): Dropout(p=0.1, inplace=False)\n",
       "            )\n",
       "          )\n",
       "          (intermediate): RobertaIntermediate(\n",
       "            (dense): Linear(in_features=768, out_features=3072, bias=True)\n",
       "          )\n",
       "          (output): RobertaOutput(\n",
       "            (dense): Linear(in_features=3072, out_features=768, bias=True)\n",
       "            (LayerNorm): LayerNorm((768,), eps=1e-05, elementwise_affine=True)\n",
       "            (dropout): Dropout(p=0.1, inplace=False)\n",
       "          )\n",
       "        )\n",
       "        (11): RobertaLayer(\n",
       "          (attention): RobertaAttention(\n",
       "            (self): RobertaSelfAttention(\n",
       "              (query): Linear(in_features=768, out_features=768, bias=True)\n",
       "              (key): Linear(in_features=768, out_features=768, bias=True)\n",
       "              (value): Linear(in_features=768, out_features=768, bias=True)\n",
       "              (dropout): Dropout(p=0.1, inplace=False)\n",
       "            )\n",
       "            (output): RobertaSelfOutput(\n",
       "              (dense): Linear(in_features=768, out_features=768, bias=True)\n",
       "              (LayerNorm): LayerNorm((768,), eps=1e-05, elementwise_affine=True)\n",
       "              (dropout): Dropout(p=0.1, inplace=False)\n",
       "            )\n",
       "          )\n",
       "          (intermediate): RobertaIntermediate(\n",
       "            (dense): Linear(in_features=768, out_features=3072, bias=True)\n",
       "          )\n",
       "          (output): RobertaOutput(\n",
       "            (dense): Linear(in_features=3072, out_features=768, bias=True)\n",
       "            (LayerNorm): LayerNorm((768,), eps=1e-05, elementwise_affine=True)\n",
       "            (dropout): Dropout(p=0.1, inplace=False)\n",
       "          )\n",
       "        )\n",
       "      )\n",
       "    )\n",
       "  )\n",
       "  (classifier): RobertaClassificationHead(\n",
       "    (dense): Linear(in_features=768, out_features=768, bias=True)\n",
       "    (dropout): Dropout(p=0.1, inplace=False)\n",
       "    (out_proj): Linear(in_features=768, out_features=2, bias=True)\n",
       "  )\n",
       ")"
      ]
     },
     "execution_count": 9,
     "metadata": {},
     "output_type": "execute_result"
    }
   ],
   "source": [
    "evalDataset = TensorDataset(torch.from_numpy(tkids),torch.from_numpy(atts))\n",
    "evalDataloader = DataLoader(evalDataset, batch_size=BS, shuffle=False)\n",
    "\n",
    "# Model\n",
    "model = RobertaForSequenceClassification.from_pretrained('roberta-base')\n",
    "model.load_state_dict(torch.load('model.pkl',map_location='cpu'),strict=False)\n",
    "DEVICE = torch.device(f\"cuda:{DID}\" if torch.cuda.is_available() else \"cpu\")\n",
    "model.to(DEVICE)"
   ]
  },
  {
   "cell_type": "code",
   "execution_count": 12,
   "metadata": {},
   "outputs": [
    {
     "name": "stderr",
     "output_type": "stream",
     "text": [
      "1250it [01:17, 16.13it/s]\n"
     ]
    },
    {
     "name": "stdout",
     "output_type": "stream",
     "text": [
      "Totally, 74999 samples have been evaluated.\n",
      "   Id  Predicted\n",
      "0   0          1\n",
      "1   1          1\n",
      "2   2          0\n",
      "3   3          1\n",
      "4   4          0\n"
     ]
    }
   ],
   "source": [
    "from tqdm import tqdm\n",
    "import pandas as pd\n",
    "# pred \n",
    "preds = []\n",
    "for i, (input_ids, attention_mask) in tqdm(enumerate(evalDataloader)):\n",
    "    outputs = model(input_ids=input_ids.to(DEVICE), attention_mask=attention_mask.to(DEVICE))\n",
    "    logits = outputs.logits\n",
    "    probs = logits.softmax(dim=-1).data.cpu()\n",
    "    _, pred = torch.max(probs, 1)\n",
    "    preds.extend(pred.numpy().tolist())\n",
    "print(f\"Totally, {len(preds)} samples have been evaluated.\")\n",
    "\n",
    "result_df = pd.DataFrame(columns=['Id','Predicted'])\n",
    "result_df['Id'] = np.arange(len(preds))\n",
    "result_df['Predicted'] = preds\n",
    "print(result_df.head())\n",
    "result_df.to_csv(\"roBERTa_pred.csv\",index=False)"
   ]
  },
  {
   "cell_type": "code",
   "execution_count": null,
   "metadata": {},
   "outputs": [],
   "source": []
  }
 ],
 "metadata": {
  "interpreter": {
   "hash": "d31c223644055a2ab52ccac1084332f6787f76f02ed8ec32580b8ff45e74c1f0"
  },
  "kernelspec": {
   "display_name": "Python 3",
   "language": "python",
   "name": "python3"
  },
  "language_info": {
   "codemirror_mode": {
    "name": "ipython",
    "version": 3
   },
   "file_extension": ".py",
   "mimetype": "text/x-python",
   "name": "python",
   "nbconvert_exporter": "python",
   "pygments_lexer": "ipython3",
   "version": "3.6.13"
  }
 },
 "nbformat": 4,
 "nbformat_minor": 2
}
